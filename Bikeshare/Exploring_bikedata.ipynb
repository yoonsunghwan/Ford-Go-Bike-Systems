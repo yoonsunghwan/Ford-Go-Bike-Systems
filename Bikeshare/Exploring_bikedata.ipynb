{
 "cells": [
  {
   "cell_type": "markdown",
   "metadata": {},
   "source": [
    "# Lyft's BikeShare data for the year 2018"
   ]
  },
  {
   "cell_type": "markdown",
   "metadata": {},
   "source": [
    "> The data consisted of 12 different files that were turned into one mega csv file. Each of the 12 files were months from the year 2018, which were then combined into one file for the whole year."
   ]
  },
  {
   "cell_type": "code",
   "execution_count": 1,
   "metadata": {},
   "outputs": [],
   "source": [
    "import pandas as pd\n",
    "import numpy as np\n",
    "import matplotlib.pyplot as plt\n",
    "import seaborn as sns\n",
    "import reverse_geocoder as rg\n",
    "%matplotlib inline"
   ]
  },
  {
   "cell_type": "markdown",
   "metadata": {},
   "source": [
    "## Data Wrangling\n",
    "\n",
    "## `Gather`  \n",
    "There was a total of 12 different folders, in each folder there was a csv file with bike data from that folder's respective month. So 201801-fordgobike-tripdata.csv/201801 folder had a csv file called 201801-fordgobike-tripdata.csv. Each file in each folder was then concatenated into one large file called bikedata_2018."
   ]
  },
  {
   "cell_type": "code",
   "execution_count": null,
   "metadata": {},
   "outputs": [],
   "source": [
    "months = np.arange(1,13)\n",
    "print(months)"
   ]
  },
  {
   "cell_type": "code",
   "execution_count": null,
   "metadata": {},
   "outputs": [],
   "source": [
    "all_files = []\n",
    "for m in months:\n",
    "    if m < 10:\n",
    "        m = './20180{}-fordgobike-tripdata.csv/20180{}-fordgobike-tripdata.csv'.format(m,m)\n",
    "    else:\n",
    "        m = './2018{}-fordgobike-tripdata.csv/2018{}-fordgobike-tripdata.csv'.format(m,m)\n",
    "    all_files.append(m)"
   ]
  },
  {
   "cell_type": "code",
   "execution_count": null,
   "metadata": {},
   "outputs": [],
   "source": [
    "bikedata_2018 = pd.concat(pd.read_csv(f) for f in all_files).reset_index(drop=True)"
   ]
  },
  {
   "cell_type": "code",
   "execution_count": null,
   "metadata": {},
   "outputs": [],
   "source": [
    "bikedata_2018.to_csv('bikedata_2018.csv', index = False)"
   ]
  },
  {
   "cell_type": "markdown",
   "metadata": {},
   "source": [
    "## `Assess`  \n",
    "* Change the start_time & end_time column into datetime objects\n",
    "* Change bike_id from int to float, the id's are whole numbers \n",
    "* Change the values for member_birth_year that are < 1919\n",
    "* Fill in null values for columns 'station_id,'station_name', 'member_birth_year', 'member_gender'\n",
    "\n",
    "* Create new column that shows duration in minutes\n",
    "* Create an age column by subtracting 2018 from the members birth year\n",
    "* Find the city & county of the start and end location\n",
    "* Change user_type to subscribers and make it boolean, subscribers = True, customer = False\n",
    "* Create a new column called duration, which will be categorical"
   ]
  },
  {
   "cell_type": "code",
   "execution_count": 2,
   "metadata": {},
   "outputs": [],
   "source": [
    "pd.set_option('display.max_columns', 500)\n",
    "bikedata_2018 = pd.read_csv('bikedata_2018.csv')"
   ]
  },
  {
   "cell_type": "code",
   "execution_count": 3,
   "metadata": {},
   "outputs": [
    {
     "data": {
      "text/html": [
       "<div>\n",
       "<style scoped>\n",
       "    .dataframe tbody tr th:only-of-type {\n",
       "        vertical-align: middle;\n",
       "    }\n",
       "\n",
       "    .dataframe tbody tr th {\n",
       "        vertical-align: top;\n",
       "    }\n",
       "\n",
       "    .dataframe thead th {\n",
       "        text-align: right;\n",
       "    }\n",
       "</style>\n",
       "<table border=\"1\" class=\"dataframe\">\n",
       "  <thead>\n",
       "    <tr style=\"text-align: right;\">\n",
       "      <th></th>\n",
       "      <th>duration_sec</th>\n",
       "      <th>start_time</th>\n",
       "      <th>end_time</th>\n",
       "      <th>start_station_id</th>\n",
       "      <th>start_station_name</th>\n",
       "      <th>start_station_latitude</th>\n",
       "      <th>start_station_longitude</th>\n",
       "      <th>end_station_id</th>\n",
       "      <th>end_station_name</th>\n",
       "      <th>end_station_latitude</th>\n",
       "      <th>end_station_longitude</th>\n",
       "      <th>bike_id</th>\n",
       "      <th>user_type</th>\n",
       "      <th>member_birth_year</th>\n",
       "      <th>member_gender</th>\n",
       "      <th>bike_share_for_all_trip</th>\n",
       "    </tr>\n",
       "  </thead>\n",
       "  <tbody>\n",
       "    <tr>\n",
       "      <th>1566765</th>\n",
       "      <td>71285</td>\n",
       "      <td>2018-10-04 13:02:26.5780</td>\n",
       "      <td>2018-10-05 08:50:31.7070</td>\n",
       "      <td>133.0</td>\n",
       "      <td>Valencia St at 22nd St</td>\n",
       "      <td>37.755213</td>\n",
       "      <td>-122.420975</td>\n",
       "      <td>350.0</td>\n",
       "      <td>8th St at Brannan St</td>\n",
       "      <td>37.771431</td>\n",
       "      <td>-122.405787</td>\n",
       "      <td>2856</td>\n",
       "      <td>Customer</td>\n",
       "      <td>NaN</td>\n",
       "      <td>NaN</td>\n",
       "      <td>No</td>\n",
       "    </tr>\n",
       "    <tr>\n",
       "      <th>655481</th>\n",
       "      <td>356</td>\n",
       "      <td>2018-06-26 13:05:27.9190</td>\n",
       "      <td>2018-06-26 13:11:24.2750</td>\n",
       "      <td>159.0</td>\n",
       "      <td>24th St at Market St</td>\n",
       "      <td>37.816060</td>\n",
       "      <td>-122.278244</td>\n",
       "      <td>183.0</td>\n",
       "      <td>Telegraph Ave at 19th St</td>\n",
       "      <td>37.808702</td>\n",
       "      <td>-122.269927</td>\n",
       "      <td>3725</td>\n",
       "      <td>Subscriber</td>\n",
       "      <td>1975.0</td>\n",
       "      <td>Male</td>\n",
       "      <td>Yes</td>\n",
       "    </tr>\n",
       "    <tr>\n",
       "      <th>1767432</th>\n",
       "      <td>530</td>\n",
       "      <td>2018-12-20 09:28:43.9460</td>\n",
       "      <td>2018-12-20 09:37:34.6130</td>\n",
       "      <td>15.0</td>\n",
       "      <td>San Francisco Ferry Building (Harry Bridges Pl...</td>\n",
       "      <td>37.795392</td>\n",
       "      <td>-122.394203</td>\n",
       "      <td>50.0</td>\n",
       "      <td>2nd St at Townsend St</td>\n",
       "      <td>37.780526</td>\n",
       "      <td>-122.390288</td>\n",
       "      <td>2197</td>\n",
       "      <td>Subscriber</td>\n",
       "      <td>1951.0</td>\n",
       "      <td>Male</td>\n",
       "      <td>No</td>\n",
       "    </tr>\n",
       "    <tr>\n",
       "      <th>1541882</th>\n",
       "      <td>203</td>\n",
       "      <td>2018-10-09 12:53:33.9040</td>\n",
       "      <td>2018-10-09 12:56:56.9430</td>\n",
       "      <td>114.0</td>\n",
       "      <td>Rhode Island St at 17th St</td>\n",
       "      <td>37.764478</td>\n",
       "      <td>-122.402570</td>\n",
       "      <td>116.0</td>\n",
       "      <td>Mississippi St at 17th St</td>\n",
       "      <td>37.764802</td>\n",
       "      <td>-122.394771</td>\n",
       "      <td>191</td>\n",
       "      <td>Subscriber</td>\n",
       "      <td>1985.0</td>\n",
       "      <td>Male</td>\n",
       "      <td>No</td>\n",
       "    </tr>\n",
       "    <tr>\n",
       "      <th>884160</th>\n",
       "      <td>516</td>\n",
       "      <td>2018-07-22 07:55:09.9940</td>\n",
       "      <td>2018-07-22 08:03:46.1810</td>\n",
       "      <td>107.0</td>\n",
       "      <td>17th St at Dolores St</td>\n",
       "      <td>37.763015</td>\n",
       "      <td>-122.426497</td>\n",
       "      <td>350.0</td>\n",
       "      <td>8th St at Brannan St</td>\n",
       "      <td>37.771431</td>\n",
       "      <td>-122.405787</td>\n",
       "      <td>3944</td>\n",
       "      <td>Subscriber</td>\n",
       "      <td>1967.0</td>\n",
       "      <td>Male</td>\n",
       "      <td>No</td>\n",
       "    </tr>\n",
       "  </tbody>\n",
       "</table>\n",
       "</div>"
      ],
      "text/plain": [
       "         duration_sec                start_time                  end_time  \\\n",
       "1566765         71285  2018-10-04 13:02:26.5780  2018-10-05 08:50:31.7070   \n",
       "655481            356  2018-06-26 13:05:27.9190  2018-06-26 13:11:24.2750   \n",
       "1767432           530  2018-12-20 09:28:43.9460  2018-12-20 09:37:34.6130   \n",
       "1541882           203  2018-10-09 12:53:33.9040  2018-10-09 12:56:56.9430   \n",
       "884160            516  2018-07-22 07:55:09.9940  2018-07-22 08:03:46.1810   \n",
       "\n",
       "         start_station_id                                 start_station_name  \\\n",
       "1566765             133.0                             Valencia St at 22nd St   \n",
       "655481              159.0                               24th St at Market St   \n",
       "1767432              15.0  San Francisco Ferry Building (Harry Bridges Pl...   \n",
       "1541882             114.0                         Rhode Island St at 17th St   \n",
       "884160              107.0                              17th St at Dolores St   \n",
       "\n",
       "         start_station_latitude  start_station_longitude  end_station_id  \\\n",
       "1566765               37.755213              -122.420975           350.0   \n",
       "655481                37.816060              -122.278244           183.0   \n",
       "1767432               37.795392              -122.394203            50.0   \n",
       "1541882               37.764478              -122.402570           116.0   \n",
       "884160                37.763015              -122.426497           350.0   \n",
       "\n",
       "                  end_station_name  end_station_latitude  \\\n",
       "1566765       8th St at Brannan St             37.771431   \n",
       "655481    Telegraph Ave at 19th St             37.808702   \n",
       "1767432      2nd St at Townsend St             37.780526   \n",
       "1541882  Mississippi St at 17th St             37.764802   \n",
       "884160        8th St at Brannan St             37.771431   \n",
       "\n",
       "         end_station_longitude  bike_id   user_type  member_birth_year  \\\n",
       "1566765            -122.405787     2856    Customer                NaN   \n",
       "655481             -122.269927     3725  Subscriber             1975.0   \n",
       "1767432            -122.390288     2197  Subscriber             1951.0   \n",
       "1541882            -122.394771      191  Subscriber             1985.0   \n",
       "884160             -122.405787     3944  Subscriber             1967.0   \n",
       "\n",
       "        member_gender bike_share_for_all_trip  \n",
       "1566765           NaN                      No  \n",
       "655481           Male                     Yes  \n",
       "1767432          Male                      No  \n",
       "1541882          Male                      No  \n",
       "884160           Male                      No  "
      ]
     },
     "execution_count": 3,
     "metadata": {},
     "output_type": "execute_result"
    }
   ],
   "source": [
    "#5 random rows from bikdata_2018\n",
    "bikedata_2018.sample(5)"
   ]
  },
  {
   "cell_type": "code",
   "execution_count": 4,
   "metadata": {},
   "outputs": [
    {
     "data": {
      "text/html": [
       "<div>\n",
       "<style scoped>\n",
       "    .dataframe tbody tr th:only-of-type {\n",
       "        vertical-align: middle;\n",
       "    }\n",
       "\n",
       "    .dataframe tbody tr th {\n",
       "        vertical-align: top;\n",
       "    }\n",
       "\n",
       "    .dataframe thead th {\n",
       "        text-align: right;\n",
       "    }\n",
       "</style>\n",
       "<table border=\"1\" class=\"dataframe\">\n",
       "  <thead>\n",
       "    <tr style=\"text-align: right;\">\n",
       "      <th></th>\n",
       "      <th>duration_sec</th>\n",
       "      <th>start_station_id</th>\n",
       "      <th>start_station_latitude</th>\n",
       "      <th>start_station_longitude</th>\n",
       "      <th>end_station_id</th>\n",
       "      <th>end_station_latitude</th>\n",
       "      <th>end_station_longitude</th>\n",
       "      <th>bike_id</th>\n",
       "      <th>member_birth_year</th>\n",
       "    </tr>\n",
       "  </thead>\n",
       "  <tbody>\n",
       "    <tr>\n",
       "      <th>count</th>\n",
       "      <td>1.863721e+06</td>\n",
       "      <td>1.851950e+06</td>\n",
       "      <td>1.863721e+06</td>\n",
       "      <td>1.863721e+06</td>\n",
       "      <td>1.851950e+06</td>\n",
       "      <td>1.863721e+06</td>\n",
       "      <td>1.863721e+06</td>\n",
       "      <td>1.863721e+06</td>\n",
       "      <td>1.753003e+06</td>\n",
       "    </tr>\n",
       "    <tr>\n",
       "      <th>mean</th>\n",
       "      <td>8.573026e+02</td>\n",
       "      <td>1.196744e+02</td>\n",
       "      <td>3.776678e+01</td>\n",
       "      <td>-1.223492e+02</td>\n",
       "      <td>1.181730e+02</td>\n",
       "      <td>3.776690e+01</td>\n",
       "      <td>-1.223487e+02</td>\n",
       "      <td>2.296851e+03</td>\n",
       "      <td>1.983088e+03</td>\n",
       "    </tr>\n",
       "    <tr>\n",
       "      <th>std</th>\n",
       "      <td>2.370379e+03</td>\n",
       "      <td>1.003976e+02</td>\n",
       "      <td>1.057689e-01</td>\n",
       "      <td>1.654634e-01</td>\n",
       "      <td>1.004403e+02</td>\n",
       "      <td>1.056483e-01</td>\n",
       "      <td>1.650597e-01</td>\n",
       "      <td>1.287733e+03</td>\n",
       "      <td>1.044289e+01</td>\n",
       "    </tr>\n",
       "    <tr>\n",
       "      <th>min</th>\n",
       "      <td>6.100000e+01</td>\n",
       "      <td>3.000000e+00</td>\n",
       "      <td>3.726331e+01</td>\n",
       "      <td>-1.224737e+02</td>\n",
       "      <td>3.000000e+00</td>\n",
       "      <td>3.726331e+01</td>\n",
       "      <td>-1.224737e+02</td>\n",
       "      <td>1.100000e+01</td>\n",
       "      <td>1.881000e+03</td>\n",
       "    </tr>\n",
       "    <tr>\n",
       "      <th>25%</th>\n",
       "      <td>3.500000e+02</td>\n",
       "      <td>3.300000e+01</td>\n",
       "      <td>3.777106e+01</td>\n",
       "      <td>-1.224114e+02</td>\n",
       "      <td>3.000000e+01</td>\n",
       "      <td>3.777106e+01</td>\n",
       "      <td>-1.224094e+02</td>\n",
       "      <td>1.225000e+03</td>\n",
       "      <td>1.978000e+03</td>\n",
       "    </tr>\n",
       "    <tr>\n",
       "      <th>50%</th>\n",
       "      <td>5.560000e+02</td>\n",
       "      <td>8.900000e+01</td>\n",
       "      <td>3.778107e+01</td>\n",
       "      <td>-1.223974e+02</td>\n",
       "      <td>8.800000e+01</td>\n",
       "      <td>3.778127e+01</td>\n",
       "      <td>-1.223971e+02</td>\n",
       "      <td>2.338000e+03</td>\n",
       "      <td>1.985000e+03</td>\n",
       "    </tr>\n",
       "    <tr>\n",
       "      <th>75%</th>\n",
       "      <td>8.720000e+02</td>\n",
       "      <td>1.860000e+02</td>\n",
       "      <td>3.779625e+01</td>\n",
       "      <td>-1.222865e+02</td>\n",
       "      <td>1.830000e+02</td>\n",
       "      <td>3.779728e+01</td>\n",
       "      <td>-1.222894e+02</td>\n",
       "      <td>3.333000e+03</td>\n",
       "      <td>1.991000e+03</td>\n",
       "    </tr>\n",
       "    <tr>\n",
       "      <th>max</th>\n",
       "      <td>8.636600e+04</td>\n",
       "      <td>3.810000e+02</td>\n",
       "      <td>4.551000e+01</td>\n",
       "      <td>-7.357000e+01</td>\n",
       "      <td>3.810000e+02</td>\n",
       "      <td>4.551000e+01</td>\n",
       "      <td>-7.357000e+01</td>\n",
       "      <td>6.234000e+03</td>\n",
       "      <td>2.000000e+03</td>\n",
       "    </tr>\n",
       "  </tbody>\n",
       "</table>\n",
       "</div>"
      ],
      "text/plain": [
       "       duration_sec  start_station_id  start_station_latitude  \\\n",
       "count  1.863721e+06      1.851950e+06            1.863721e+06   \n",
       "mean   8.573026e+02      1.196744e+02            3.776678e+01   \n",
       "std    2.370379e+03      1.003976e+02            1.057689e-01   \n",
       "min    6.100000e+01      3.000000e+00            3.726331e+01   \n",
       "25%    3.500000e+02      3.300000e+01            3.777106e+01   \n",
       "50%    5.560000e+02      8.900000e+01            3.778107e+01   \n",
       "75%    8.720000e+02      1.860000e+02            3.779625e+01   \n",
       "max    8.636600e+04      3.810000e+02            4.551000e+01   \n",
       "\n",
       "       start_station_longitude  end_station_id  end_station_latitude  \\\n",
       "count             1.863721e+06    1.851950e+06          1.863721e+06   \n",
       "mean             -1.223492e+02    1.181730e+02          3.776690e+01   \n",
       "std               1.654634e-01    1.004403e+02          1.056483e-01   \n",
       "min              -1.224737e+02    3.000000e+00          3.726331e+01   \n",
       "25%              -1.224114e+02    3.000000e+01          3.777106e+01   \n",
       "50%              -1.223974e+02    8.800000e+01          3.778127e+01   \n",
       "75%              -1.222865e+02    1.830000e+02          3.779728e+01   \n",
       "max              -7.357000e+01    3.810000e+02          4.551000e+01   \n",
       "\n",
       "       end_station_longitude       bike_id  member_birth_year  \n",
       "count           1.863721e+06  1.863721e+06       1.753003e+06  \n",
       "mean           -1.223487e+02  2.296851e+03       1.983088e+03  \n",
       "std             1.650597e-01  1.287733e+03       1.044289e+01  \n",
       "min            -1.224737e+02  1.100000e+01       1.881000e+03  \n",
       "25%            -1.224094e+02  1.225000e+03       1.978000e+03  \n",
       "50%            -1.223971e+02  2.338000e+03       1.985000e+03  \n",
       "75%            -1.222894e+02  3.333000e+03       1.991000e+03  \n",
       "max            -7.357000e+01  6.234000e+03       2.000000e+03  "
      ]
     },
     "execution_count": 4,
     "metadata": {},
     "output_type": "execute_result"
    }
   ],
   "source": [
    "#describe\n",
    "bikedata_2018.describe()"
   ]
  },
  {
   "cell_type": "code",
   "execution_count": 5,
   "metadata": {},
   "outputs": [
    {
     "name": "stdout",
     "output_type": "stream",
     "text": [
      "<class 'pandas.core.frame.DataFrame'>\n",
      "RangeIndex: 1863721 entries, 0 to 1863720\n",
      "Data columns (total 16 columns):\n",
      "duration_sec               1863721 non-null int64\n",
      "start_time                 1863721 non-null object\n",
      "end_time                   1863721 non-null object\n",
      "start_station_id           1851950 non-null float64\n",
      "start_station_name         1851950 non-null object\n",
      "start_station_latitude     1863721 non-null float64\n",
      "start_station_longitude    1863721 non-null float64\n",
      "end_station_id             1851950 non-null float64\n",
      "end_station_name           1851950 non-null object\n",
      "end_station_latitude       1863721 non-null float64\n",
      "end_station_longitude      1863721 non-null float64\n",
      "bike_id                    1863721 non-null int64\n",
      "user_type                  1863721 non-null object\n",
      "member_birth_year          1753003 non-null float64\n",
      "member_gender              1753354 non-null object\n",
      "bike_share_for_all_trip    1863721 non-null object\n",
      "dtypes: float64(7), int64(2), object(7)\n",
      "memory usage: 227.5+ MB\n"
     ]
    }
   ],
   "source": [
    "#info\n",
    "bikedata_2018.info(null_counts = True)"
   ]
  },
  {
   "cell_type": "code",
   "execution_count": 6,
   "metadata": {},
   "outputs": [],
   "source": [
    "#for loop gets cols that have more than 1 missing value\n",
    "col_missing = []\n",
    "for cols in bikedata_2018.columns:\n",
    "    if bikedata_2018[cols].isnull().sum() > 1:\n",
    "        col_missing.append(cols)"
   ]
  },
  {
   "cell_type": "code",
   "execution_count": 7,
   "metadata": {},
   "outputs": [
    {
     "data": {
      "text/plain": [
       "['start_station_id',\n",
       " 'start_station_name',\n",
       " 'end_station_id',\n",
       " 'end_station_name',\n",
       " 'member_birth_year',\n",
       " 'member_gender']"
      ]
     },
     "execution_count": 7,
     "metadata": {},
     "output_type": "execute_result"
    }
   ],
   "source": [
    "#list of cols that have missing values\n",
    "col_missing"
   ]
  },
  {
   "cell_type": "code",
   "execution_count": 8,
   "metadata": {},
   "outputs": [
    {
     "data": {
      "text/plain": [
       "1160"
      ]
     },
     "execution_count": 8,
     "metadata": {},
     "output_type": "execute_result"
    }
   ],
   "source": [
    "#1160 members were born before 1919, which mean they are over 100 years old.\n",
    "len(bikedata_2018.query(\"member_birth_year < 1919\"))"
   ]
  },
  {
   "cell_type": "markdown",
   "metadata": {},
   "source": [
    "## `Clean`"
   ]
  },
  {
   "cell_type": "code",
   "execution_count": 9,
   "metadata": {},
   "outputs": [],
   "source": [
    "#create a copy of the dataframe before cleaning\n",
    "bikedata = bikedata_2018.copy()"
   ]
  },
  {
   "cell_type": "markdown",
   "metadata": {},
   "source": [
    "**Change start_time & end_time to datetime objects**"
   ]
  },
  {
   "cell_type": "code",
   "execution_count": 10,
   "metadata": {},
   "outputs": [],
   "source": [
    "#apply pandas.to_datetime to the start_time and end_time columns\n",
    "bikedata[['start_time','end_time']] =\\\n",
    "bikedata[['start_time','end_time']].apply(pd.to_datetime, format='%Y-%m-%d %H:%M:%S.%f')"
   ]
  },
  {
   "cell_type": "code",
   "execution_count": 11,
   "metadata": {},
   "outputs": [
    {
     "name": "stdout",
     "output_type": "stream",
     "text": [
      "<class 'pandas.core.frame.DataFrame'>\n",
      "RangeIndex: 1863721 entries, 0 to 1863720\n",
      "Data columns (total 2 columns):\n",
      "start_time    datetime64[ns]\n",
      "end_time      datetime64[ns]\n",
      "dtypes: datetime64[ns](2)\n",
      "memory usage: 28.4 MB\n"
     ]
    }
   ],
   "source": [
    "#check\n",
    "bikedata[['start_time','end_time']].info()"
   ]
  },
  {
   "cell_type": "markdown",
   "metadata": {},
   "source": [
    "**Change bike_id from int to float**"
   ]
  },
  {
   "cell_type": "code",
   "execution_count": 12,
   "metadata": {},
   "outputs": [],
   "source": [
    "#to float\n",
    "bikedata['bike_id'] =\\\n",
    "bikedata['bike_id'].astype('float')"
   ]
  },
  {
   "cell_type": "code",
   "execution_count": 13,
   "metadata": {},
   "outputs": [
    {
     "data": {
      "text/plain": [
       "dtype('float64')"
      ]
     },
     "execution_count": 13,
     "metadata": {},
     "output_type": "execute_result"
    }
   ],
   "source": [
    "#check\n",
    "bikedata['bike_id'].dtype"
   ]
  },
  {
   "cell_type": "markdown",
   "metadata": {},
   "source": [
    "**Skip start_station_id, start_station_name, end_station_id, end_station_name**\n",
    "*  These columns will not be necessary in the analysis"
   ]
  },
  {
   "cell_type": "markdown",
   "metadata": {},
   "source": [
    "**Change the values where members are 90 years old or older to the median**  \n",
    "*    Members probably put in fake birth years, I dont think a 90 year old person will be riding a bike"
   ]
  },
  {
   "cell_type": "code",
   "execution_count": 14,
   "metadata": {},
   "outputs": [],
   "source": [
    "#Change the values for member_birth_year that are < 1929 to the median, which is 1985\n",
    "year_median = bikedata.member_birth_year.median()\n",
    "year_below_1929 = bikedata.query(\"member_birth_year < 1929\")['member_birth_year']\n",
    "for year in year_below_1929:\n",
    "    bikedata.member_birth_year.replace(year, year_median, inplace = True)"
   ]
  },
  {
   "cell_type": "code",
   "execution_count": 15,
   "metadata": {},
   "outputs": [
    {
     "data": {
      "text/plain": [
       "'The oldest member to ride is 88, born in 1930'"
      ]
     },
     "execution_count": 15,
     "metadata": {},
     "output_type": "execute_result"
    }
   ],
   "source": [
    "#Check the minimum values now\n",
    "\"The oldest member to ride is {:.0f}, born in {:.0f}\".format(2018-bikedata.member_birth_year.min(),bikedata.member_birth_year.min())"
   ]
  },
  {
   "cell_type": "markdown",
   "metadata": {},
   "source": [
    "**Fill in missing values for the birth_years with the median**"
   ]
  },
  {
   "cell_type": "code",
   "execution_count": 16,
   "metadata": {},
   "outputs": [
    {
     "name": "stdout",
     "output_type": "stream",
     "text": [
      "There are 110718 Null Values in member_birth_year column.\n"
     ]
    }
   ],
   "source": [
    "print(\"There are {} Null Values in member_birth_year column.\".format(bikedata.member_birth_year.isnull().sum()))"
   ]
  },
  {
   "cell_type": "code",
   "execution_count": 17,
   "metadata": {},
   "outputs": [],
   "source": [
    "#year_median is set as the median of the member_birth_years, which is 1985\n",
    "bikedata.member_birth_year.fillna(year_median, inplace = True)"
   ]
  },
  {
   "cell_type": "markdown",
   "metadata": {},
   "source": [
    "**Fill in missing values for the member_gender column with \"Other\"**"
   ]
  },
  {
   "cell_type": "code",
   "execution_count": 18,
   "metadata": {},
   "outputs": [
    {
     "name": "stdout",
     "output_type": "stream",
     "text": [
      "There are 110367 Null Values in the member_gender column.\n"
     ]
    }
   ],
   "source": [
    "print(\"There are {} Null Values in the member_gender column.\".format(bikedata.member_gender.isnull().sum()))"
   ]
  },
  {
   "cell_type": "code",
   "execution_count": 19,
   "metadata": {},
   "outputs": [],
   "source": [
    "#fill missing gender with Other\n",
    "bikedata.member_gender.fillna('Other',inplace = True)"
   ]
  },
  {
   "cell_type": "code",
   "execution_count": 20,
   "metadata": {},
   "outputs": [
    {
     "data": {
      "text/plain": [
       "Male      1288085\n",
       "Female     438188\n",
       "Other      137448\n",
       "Name: member_gender, dtype: int64"
      ]
     },
     "execution_count": 20,
     "metadata": {},
     "output_type": "execute_result"
    }
   ],
   "source": [
    "#check\n",
    "bikedata.member_gender.value_counts()"
   ]
  },
  {
   "cell_type": "markdown",
   "metadata": {},
   "source": [
    "**Create a new column with minutes**   \n",
    "* Convert seconds into minutes"
   ]
  },
  {
   "cell_type": "code",
   "execution_count": 21,
   "metadata": {},
   "outputs": [],
   "source": [
    "#divide the duration sec column by 60 inorder to create a duration min column\n",
    "bikedata['duration_min'] = bikedata.duration_sec/60"
   ]
  },
  {
   "cell_type": "code",
   "execution_count": 22,
   "metadata": {},
   "outputs": [
    {
     "data": {
      "text/plain": [
       "True"
      ]
     },
     "execution_count": 22,
     "metadata": {},
     "output_type": "execute_result"
    }
   ],
   "source": [
    "#check \n",
    "'duration_min' in bikedata.columns"
   ]
  },
  {
   "cell_type": "markdown",
   "metadata": {},
   "source": [
    "**Create an age column by subtracting 2018 from the member birth year**"
   ]
  },
  {
   "cell_type": "code",
   "execution_count": 23,
   "metadata": {},
   "outputs": [],
   "source": [
    "#create a new column age which will be 2018 subtracted by member_birth_year \n",
    "bikedata['age'] = 2018 - bikedata['member_birth_year']"
   ]
  },
  {
   "cell_type": "code",
   "execution_count": 24,
   "metadata": {},
   "outputs": [
    {
     "data": {
      "text/plain": [
       "True"
      ]
     },
     "execution_count": 24,
     "metadata": {},
     "output_type": "execute_result"
    }
   ],
   "source": [
    "#check to see if the column was made\n",
    "'age' in bikedata.columns"
   ]
  },
  {
   "cell_type": "markdown",
   "metadata": {},
   "source": [
    "**Find the city of the start and end locations using the longitude and latitude**\n",
    "* Use reverse_geocoder library\n",
    "* Create two dataframes for the start and end location\n",
    "* Concatenate the two dataframes into one start_end_location\n",
    "* Merge the concatenated dataframe into the original, bikedata\n",
    "* Drop redundant columns"
   ]
  },
  {
   "cell_type": "code",
   "execution_count": 25,
   "metadata": {},
   "outputs": [],
   "source": [
    "#create a tuple of start lat and long so that we can use the reverse_geocoder library\n",
    "bikedata['start_loc'] = list(zip(bikedata.start_station_latitude, bikedata.start_station_longitude))"
   ]
  },
  {
   "cell_type": "code",
   "execution_count": 26,
   "metadata": {},
   "outputs": [],
   "source": [
    "#start location into a list format so that we can use the reverse_geocoder\n",
    "start = list(bikedata['start_loc'].values)"
   ]
  },
  {
   "cell_type": "code",
   "execution_count": 27,
   "metadata": {},
   "outputs": [
    {
     "name": "stdout",
     "output_type": "stream",
     "text": [
      "Loading formatted geocoded file...\n"
     ]
    }
   ],
   "source": [
    "#list of dictionaries for the start locations\n",
    "dictionary_start_loc = rg.search(start,mode = 2)"
   ]
  },
  {
   "cell_type": "code",
   "execution_count": 28,
   "metadata": {},
   "outputs": [],
   "source": [
    "#create start location dataframe\n",
    "start_df = pd.DataFrame(dictionary_start_loc)"
   ]
  },
  {
   "cell_type": "code",
   "execution_count": 29,
   "metadata": {},
   "outputs": [],
   "source": [
    "#rename columns to bettter match variables\n",
    "start_df.rename({'lat':'start_lat','lon':'start_lon','name':'start_city_name','admin1':'start_state','admin2':'start_county'},axis =1, inplace = True)"
   ]
  },
  {
   "cell_type": "code",
   "execution_count": 30,
   "metadata": {},
   "outputs": [],
   "source": [
    "#drop cc as we already know the country\n",
    "start_df.drop('cc',inplace = True,axis = 1)"
   ]
  },
  {
   "cell_type": "code",
   "execution_count": 31,
   "metadata": {},
   "outputs": [
    {
     "data": {
      "text/html": [
       "<div>\n",
       "<style scoped>\n",
       "    .dataframe tbody tr th:only-of-type {\n",
       "        vertical-align: middle;\n",
       "    }\n",
       "\n",
       "    .dataframe tbody tr th {\n",
       "        vertical-align: top;\n",
       "    }\n",
       "\n",
       "    .dataframe thead th {\n",
       "        text-align: right;\n",
       "    }\n",
       "</style>\n",
       "<table border=\"1\" class=\"dataframe\">\n",
       "  <thead>\n",
       "    <tr style=\"text-align: right;\">\n",
       "      <th></th>\n",
       "      <th>start_lat</th>\n",
       "      <th>start_lon</th>\n",
       "      <th>start_city_name</th>\n",
       "      <th>start_state</th>\n",
       "      <th>start_county</th>\n",
       "    </tr>\n",
       "  </thead>\n",
       "  <tbody>\n",
       "    <tr>\n",
       "      <th>0</th>\n",
       "      <td>37.77493</td>\n",
       "      <td>-122.41942</td>\n",
       "      <td>San Francisco</td>\n",
       "      <td>California</td>\n",
       "      <td>San Francisco County</td>\n",
       "    </tr>\n",
       "    <tr>\n",
       "      <th>1</th>\n",
       "      <td>37.77493</td>\n",
       "      <td>-122.41942</td>\n",
       "      <td>San Francisco</td>\n",
       "      <td>California</td>\n",
       "      <td>San Francisco County</td>\n",
       "    </tr>\n",
       "    <tr>\n",
       "      <th>2</th>\n",
       "      <td>37.33939</td>\n",
       "      <td>-121.89496</td>\n",
       "      <td>San Jose</td>\n",
       "      <td>California</td>\n",
       "      <td>Santa Clara County</td>\n",
       "    </tr>\n",
       "    <tr>\n",
       "      <th>3</th>\n",
       "      <td>37.77493</td>\n",
       "      <td>-122.41942</td>\n",
       "      <td>San Francisco</td>\n",
       "      <td>California</td>\n",
       "      <td>San Francisco County</td>\n",
       "    </tr>\n",
       "    <tr>\n",
       "      <th>4</th>\n",
       "      <td>37.77493</td>\n",
       "      <td>-122.41942</td>\n",
       "      <td>San Francisco</td>\n",
       "      <td>California</td>\n",
       "      <td>San Francisco County</td>\n",
       "    </tr>\n",
       "  </tbody>\n",
       "</table>\n",
       "</div>"
      ],
      "text/plain": [
       "  start_lat   start_lon start_city_name start_state          start_county\n",
       "0  37.77493  -122.41942   San Francisco  California  San Francisco County\n",
       "1  37.77493  -122.41942   San Francisco  California  San Francisco County\n",
       "2  37.33939  -121.89496        San Jose  California    Santa Clara County\n",
       "3  37.77493  -122.41942   San Francisco  California  San Francisco County\n",
       "4  37.77493  -122.41942   San Francisco  California  San Francisco County"
      ]
     },
     "execution_count": 31,
     "metadata": {},
     "output_type": "execute_result"
    }
   ],
   "source": [
    "#check\n",
    "start_df.head()"
   ]
  },
  {
   "cell_type": "code",
   "execution_count": 32,
   "metadata": {},
   "outputs": [],
   "source": [
    "#create a tuple of end lat and long so that we can use the reverse_geocoder library\n",
    "bikedata['end_loc'] = list(zip(bikedata.end_station_latitude, bikedata.end_station_longitude))"
   ]
  },
  {
   "cell_type": "code",
   "execution_count": 33,
   "metadata": {},
   "outputs": [],
   "source": [
    "#end location into a list format so that we can use the reverse_geocoder\n",
    "end = list(bikedata['end_loc'].values)"
   ]
  },
  {
   "cell_type": "code",
   "execution_count": 34,
   "metadata": {},
   "outputs": [],
   "source": [
    "#list of dictionary for the end locations\n",
    "dictionary_end_loc = rg.search(end, mode = 2)"
   ]
  },
  {
   "cell_type": "code",
   "execution_count": 35,
   "metadata": {},
   "outputs": [],
   "source": [
    "#create end df with end location values\n",
    "end_df = pd.DataFrame(dictionary_end_loc)"
   ]
  },
  {
   "cell_type": "code",
   "execution_count": 36,
   "metadata": {},
   "outputs": [
    {
     "data": {
      "text/html": [
       "<div>\n",
       "<style scoped>\n",
       "    .dataframe tbody tr th:only-of-type {\n",
       "        vertical-align: middle;\n",
       "    }\n",
       "\n",
       "    .dataframe tbody tr th {\n",
       "        vertical-align: top;\n",
       "    }\n",
       "\n",
       "    .dataframe thead th {\n",
       "        text-align: right;\n",
       "    }\n",
       "</style>\n",
       "<table border=\"1\" class=\"dataframe\">\n",
       "  <thead>\n",
       "    <tr style=\"text-align: right;\">\n",
       "      <th></th>\n",
       "      <th>lat</th>\n",
       "      <th>lon</th>\n",
       "      <th>name</th>\n",
       "      <th>admin1</th>\n",
       "      <th>admin2</th>\n",
       "      <th>cc</th>\n",
       "    </tr>\n",
       "  </thead>\n",
       "  <tbody>\n",
       "    <tr>\n",
       "      <th>0</th>\n",
       "      <td>37.77493</td>\n",
       "      <td>-122.41942</td>\n",
       "      <td>San Francisco</td>\n",
       "      <td>California</td>\n",
       "      <td>San Francisco County</td>\n",
       "      <td>US</td>\n",
       "    </tr>\n",
       "    <tr>\n",
       "      <th>1</th>\n",
       "      <td>37.77493</td>\n",
       "      <td>-122.41942</td>\n",
       "      <td>San Francisco</td>\n",
       "      <td>California</td>\n",
       "      <td>San Francisco County</td>\n",
       "      <td>US</td>\n",
       "    </tr>\n",
       "    <tr>\n",
       "      <th>2</th>\n",
       "      <td>37.33939</td>\n",
       "      <td>-121.89496</td>\n",
       "      <td>San Jose</td>\n",
       "      <td>California</td>\n",
       "      <td>Santa Clara County</td>\n",
       "      <td>US</td>\n",
       "    </tr>\n",
       "    <tr>\n",
       "      <th>3</th>\n",
       "      <td>37.77493</td>\n",
       "      <td>-122.41942</td>\n",
       "      <td>San Francisco</td>\n",
       "      <td>California</td>\n",
       "      <td>San Francisco County</td>\n",
       "      <td>US</td>\n",
       "    </tr>\n",
       "    <tr>\n",
       "      <th>4</th>\n",
       "      <td>37.77493</td>\n",
       "      <td>-122.41942</td>\n",
       "      <td>San Francisco</td>\n",
       "      <td>California</td>\n",
       "      <td>San Francisco County</td>\n",
       "      <td>US</td>\n",
       "    </tr>\n",
       "  </tbody>\n",
       "</table>\n",
       "</div>"
      ],
      "text/plain": [
       "        lat         lon           name      admin1                admin2  cc\n",
       "0  37.77493  -122.41942  San Francisco  California  San Francisco County  US\n",
       "1  37.77493  -122.41942  San Francisco  California  San Francisco County  US\n",
       "2  37.33939  -121.89496       San Jose  California    Santa Clara County  US\n",
       "3  37.77493  -122.41942  San Francisco  California  San Francisco County  US\n",
       "4  37.77493  -122.41942  San Francisco  California  San Francisco County  US"
      ]
     },
     "execution_count": 36,
     "metadata": {},
     "output_type": "execute_result"
    }
   ],
   "source": [
    "#check\n",
    "end_df.head()"
   ]
  },
  {
   "cell_type": "code",
   "execution_count": 37,
   "metadata": {},
   "outputs": [],
   "source": [
    "#rename columns for better understanding of variables\n",
    "end_df.rename({'lat':'end_lat','lon':'end_lon','name':'end_city_name','admin1':'end_state','admin2':'end_county'},axis =1, inplace = True)"
   ]
  },
  {
   "cell_type": "code",
   "execution_count": 38,
   "metadata": {},
   "outputs": [],
   "source": [
    "#drop cc as we already know the country\n",
    "end_df.drop('cc',axis = 1, inplace = True)"
   ]
  },
  {
   "cell_type": "code",
   "execution_count": 39,
   "metadata": {},
   "outputs": [],
   "source": [
    "#concat start and end dataframe into one\n",
    "start_end_location = pd.concat([start_df, end_df], axis=1)"
   ]
  },
  {
   "cell_type": "code",
   "execution_count": 40,
   "metadata": {},
   "outputs": [
    {
     "data": {
      "text/html": [
       "<div>\n",
       "<style scoped>\n",
       "    .dataframe tbody tr th:only-of-type {\n",
       "        vertical-align: middle;\n",
       "    }\n",
       "\n",
       "    .dataframe tbody tr th {\n",
       "        vertical-align: top;\n",
       "    }\n",
       "\n",
       "    .dataframe thead th {\n",
       "        text-align: right;\n",
       "    }\n",
       "</style>\n",
       "<table border=\"1\" class=\"dataframe\">\n",
       "  <thead>\n",
       "    <tr style=\"text-align: right;\">\n",
       "      <th></th>\n",
       "      <th>start_lat</th>\n",
       "      <th>start_lon</th>\n",
       "      <th>start_city_name</th>\n",
       "      <th>start_state</th>\n",
       "      <th>start_county</th>\n",
       "      <th>end_lat</th>\n",
       "      <th>end_lon</th>\n",
       "      <th>end_city_name</th>\n",
       "      <th>end_state</th>\n",
       "      <th>end_county</th>\n",
       "    </tr>\n",
       "  </thead>\n",
       "  <tbody>\n",
       "    <tr>\n",
       "      <th>0</th>\n",
       "      <td>37.77493</td>\n",
       "      <td>-122.41942</td>\n",
       "      <td>San Francisco</td>\n",
       "      <td>California</td>\n",
       "      <td>San Francisco County</td>\n",
       "      <td>37.77493</td>\n",
       "      <td>-122.41942</td>\n",
       "      <td>San Francisco</td>\n",
       "      <td>California</td>\n",
       "      <td>San Francisco County</td>\n",
       "    </tr>\n",
       "    <tr>\n",
       "      <th>1</th>\n",
       "      <td>37.77493</td>\n",
       "      <td>-122.41942</td>\n",
       "      <td>San Francisco</td>\n",
       "      <td>California</td>\n",
       "      <td>San Francisco County</td>\n",
       "      <td>37.77493</td>\n",
       "      <td>-122.41942</td>\n",
       "      <td>San Francisco</td>\n",
       "      <td>California</td>\n",
       "      <td>San Francisco County</td>\n",
       "    </tr>\n",
       "    <tr>\n",
       "      <th>2</th>\n",
       "      <td>37.33939</td>\n",
       "      <td>-121.89496</td>\n",
       "      <td>San Jose</td>\n",
       "      <td>California</td>\n",
       "      <td>Santa Clara County</td>\n",
       "      <td>37.33939</td>\n",
       "      <td>-121.89496</td>\n",
       "      <td>San Jose</td>\n",
       "      <td>California</td>\n",
       "      <td>Santa Clara County</td>\n",
       "    </tr>\n",
       "    <tr>\n",
       "      <th>3</th>\n",
       "      <td>37.77493</td>\n",
       "      <td>-122.41942</td>\n",
       "      <td>San Francisco</td>\n",
       "      <td>California</td>\n",
       "      <td>San Francisco County</td>\n",
       "      <td>37.77493</td>\n",
       "      <td>-122.41942</td>\n",
       "      <td>San Francisco</td>\n",
       "      <td>California</td>\n",
       "      <td>San Francisco County</td>\n",
       "    </tr>\n",
       "    <tr>\n",
       "      <th>4</th>\n",
       "      <td>37.77493</td>\n",
       "      <td>-122.41942</td>\n",
       "      <td>San Francisco</td>\n",
       "      <td>California</td>\n",
       "      <td>San Francisco County</td>\n",
       "      <td>37.77493</td>\n",
       "      <td>-122.41942</td>\n",
       "      <td>San Francisco</td>\n",
       "      <td>California</td>\n",
       "      <td>San Francisco County</td>\n",
       "    </tr>\n",
       "  </tbody>\n",
       "</table>\n",
       "</div>"
      ],
      "text/plain": [
       "  start_lat   start_lon start_city_name start_state          start_county  \\\n",
       "0  37.77493  -122.41942   San Francisco  California  San Francisco County   \n",
       "1  37.77493  -122.41942   San Francisco  California  San Francisco County   \n",
       "2  37.33939  -121.89496        San Jose  California    Santa Clara County   \n",
       "3  37.77493  -122.41942   San Francisco  California  San Francisco County   \n",
       "4  37.77493  -122.41942   San Francisco  California  San Francisco County   \n",
       "\n",
       "    end_lat     end_lon  end_city_name   end_state            end_county  \n",
       "0  37.77493  -122.41942  San Francisco  California  San Francisco County  \n",
       "1  37.77493  -122.41942  San Francisco  California  San Francisco County  \n",
       "2  37.33939  -121.89496       San Jose  California    Santa Clara County  \n",
       "3  37.77493  -122.41942  San Francisco  California  San Francisco County  \n",
       "4  37.77493  -122.41942  San Francisco  California  San Francisco County  "
      ]
     },
     "execution_count": 40,
     "metadata": {},
     "output_type": "execute_result"
    }
   ],
   "source": [
    "#check\n",
    "start_end_location.head()"
   ]
  },
  {
   "cell_type": "code",
   "execution_count": 41,
   "metadata": {},
   "outputs": [],
   "source": [
    "#create copy to avoid problems\n",
    "bikedata = bikedata.join(start_end_location).copy()"
   ]
  },
  {
   "cell_type": "code",
   "execution_count": 42,
   "metadata": {},
   "outputs": [],
   "source": [
    "#drop start_lat,start_lon,end_lat,end_Lon as the original dataframe already has these values\n",
    "#also drop start_loc, end_loc as this is unnecessary\n",
    "bikedata.drop(['start_lat','start_lon','end_lat','end_lon','start_loc','end_loc'],axis = 1,inplace = True)"
   ]
  },
  {
   "cell_type": "code",
   "execution_count": 43,
   "metadata": {},
   "outputs": [
    {
     "data": {
      "text/html": [
       "<div>\n",
       "<style scoped>\n",
       "    .dataframe tbody tr th:only-of-type {\n",
       "        vertical-align: middle;\n",
       "    }\n",
       "\n",
       "    .dataframe tbody tr th {\n",
       "        vertical-align: top;\n",
       "    }\n",
       "\n",
       "    .dataframe thead th {\n",
       "        text-align: right;\n",
       "    }\n",
       "</style>\n",
       "<table border=\"1\" class=\"dataframe\">\n",
       "  <thead>\n",
       "    <tr style=\"text-align: right;\">\n",
       "      <th></th>\n",
       "      <th>duration_sec</th>\n",
       "      <th>start_time</th>\n",
       "      <th>end_time</th>\n",
       "      <th>start_station_id</th>\n",
       "      <th>start_station_name</th>\n",
       "      <th>start_station_latitude</th>\n",
       "      <th>start_station_longitude</th>\n",
       "      <th>end_station_id</th>\n",
       "      <th>end_station_name</th>\n",
       "      <th>end_station_latitude</th>\n",
       "      <th>end_station_longitude</th>\n",
       "      <th>bike_id</th>\n",
       "      <th>user_type</th>\n",
       "      <th>member_birth_year</th>\n",
       "      <th>member_gender</th>\n",
       "      <th>bike_share_for_all_trip</th>\n",
       "      <th>duration_min</th>\n",
       "      <th>age</th>\n",
       "      <th>start_city_name</th>\n",
       "      <th>start_state</th>\n",
       "      <th>start_county</th>\n",
       "      <th>end_city_name</th>\n",
       "      <th>end_state</th>\n",
       "      <th>end_county</th>\n",
       "    </tr>\n",
       "  </thead>\n",
       "  <tbody>\n",
       "    <tr>\n",
       "      <th>0</th>\n",
       "      <td>75284</td>\n",
       "      <td>2018-01-31 22:52:35.239</td>\n",
       "      <td>2018-02-01 19:47:19.824</td>\n",
       "      <td>120.0</td>\n",
       "      <td>Mission Dolores Park</td>\n",
       "      <td>37.761420</td>\n",
       "      <td>-122.426435</td>\n",
       "      <td>285.0</td>\n",
       "      <td>Webster St at O'Farrell St</td>\n",
       "      <td>37.783521</td>\n",
       "      <td>-122.431158</td>\n",
       "      <td>2765.0</td>\n",
       "      <td>Subscriber</td>\n",
       "      <td>1986.0</td>\n",
       "      <td>Male</td>\n",
       "      <td>No</td>\n",
       "      <td>1254.733333</td>\n",
       "      <td>32.0</td>\n",
       "      <td>San Francisco</td>\n",
       "      <td>California</td>\n",
       "      <td>San Francisco County</td>\n",
       "      <td>San Francisco</td>\n",
       "      <td>California</td>\n",
       "      <td>San Francisco County</td>\n",
       "    </tr>\n",
       "    <tr>\n",
       "      <th>1</th>\n",
       "      <td>85422</td>\n",
       "      <td>2018-01-31 16:13:34.351</td>\n",
       "      <td>2018-02-01 15:57:17.310</td>\n",
       "      <td>15.0</td>\n",
       "      <td>San Francisco Ferry Building (Harry Bridges Pl...</td>\n",
       "      <td>37.795392</td>\n",
       "      <td>-122.394203</td>\n",
       "      <td>15.0</td>\n",
       "      <td>San Francisco Ferry Building (Harry Bridges Pl...</td>\n",
       "      <td>37.795392</td>\n",
       "      <td>-122.394203</td>\n",
       "      <td>2815.0</td>\n",
       "      <td>Customer</td>\n",
       "      <td>1985.0</td>\n",
       "      <td>Other</td>\n",
       "      <td>No</td>\n",
       "      <td>1423.700000</td>\n",
       "      <td>33.0</td>\n",
       "      <td>San Francisco</td>\n",
       "      <td>California</td>\n",
       "      <td>San Francisco County</td>\n",
       "      <td>San Francisco</td>\n",
       "      <td>California</td>\n",
       "      <td>San Francisco County</td>\n",
       "    </tr>\n",
       "    <tr>\n",
       "      <th>2</th>\n",
       "      <td>71576</td>\n",
       "      <td>2018-01-31 14:23:55.889</td>\n",
       "      <td>2018-02-01 10:16:52.116</td>\n",
       "      <td>304.0</td>\n",
       "      <td>Jackson St at 5th St</td>\n",
       "      <td>37.348759</td>\n",
       "      <td>-121.894798</td>\n",
       "      <td>296.0</td>\n",
       "      <td>5th St at Virginia St</td>\n",
       "      <td>37.325998</td>\n",
       "      <td>-121.877120</td>\n",
       "      <td>3039.0</td>\n",
       "      <td>Customer</td>\n",
       "      <td>1996.0</td>\n",
       "      <td>Male</td>\n",
       "      <td>No</td>\n",
       "      <td>1192.933333</td>\n",
       "      <td>22.0</td>\n",
       "      <td>San Jose</td>\n",
       "      <td>California</td>\n",
       "      <td>Santa Clara County</td>\n",
       "      <td>San Jose</td>\n",
       "      <td>California</td>\n",
       "      <td>Santa Clara County</td>\n",
       "    </tr>\n",
       "    <tr>\n",
       "      <th>3</th>\n",
       "      <td>61076</td>\n",
       "      <td>2018-01-31 14:53:23.562</td>\n",
       "      <td>2018-02-01 07:51:20.500</td>\n",
       "      <td>75.0</td>\n",
       "      <td>Market St at Franklin St</td>\n",
       "      <td>37.773793</td>\n",
       "      <td>-122.421239</td>\n",
       "      <td>47.0</td>\n",
       "      <td>4th St at Harrison St</td>\n",
       "      <td>37.780955</td>\n",
       "      <td>-122.399749</td>\n",
       "      <td>321.0</td>\n",
       "      <td>Customer</td>\n",
       "      <td>1985.0</td>\n",
       "      <td>Other</td>\n",
       "      <td>No</td>\n",
       "      <td>1017.933333</td>\n",
       "      <td>33.0</td>\n",
       "      <td>San Francisco</td>\n",
       "      <td>California</td>\n",
       "      <td>San Francisco County</td>\n",
       "      <td>San Francisco</td>\n",
       "      <td>California</td>\n",
       "      <td>San Francisco County</td>\n",
       "    </tr>\n",
       "    <tr>\n",
       "      <th>4</th>\n",
       "      <td>39966</td>\n",
       "      <td>2018-01-31 19:52:24.667</td>\n",
       "      <td>2018-02-01 06:58:31.053</td>\n",
       "      <td>74.0</td>\n",
       "      <td>Laguna St at Hayes St</td>\n",
       "      <td>37.776435</td>\n",
       "      <td>-122.426244</td>\n",
       "      <td>19.0</td>\n",
       "      <td>Post St at Kearny St</td>\n",
       "      <td>37.788975</td>\n",
       "      <td>-122.403452</td>\n",
       "      <td>617.0</td>\n",
       "      <td>Subscriber</td>\n",
       "      <td>1991.0</td>\n",
       "      <td>Male</td>\n",
       "      <td>No</td>\n",
       "      <td>666.100000</td>\n",
       "      <td>27.0</td>\n",
       "      <td>San Francisco</td>\n",
       "      <td>California</td>\n",
       "      <td>San Francisco County</td>\n",
       "      <td>San Francisco</td>\n",
       "      <td>California</td>\n",
       "      <td>San Francisco County</td>\n",
       "    </tr>\n",
       "  </tbody>\n",
       "</table>\n",
       "</div>"
      ],
      "text/plain": [
       "   duration_sec              start_time                end_time  \\\n",
       "0         75284 2018-01-31 22:52:35.239 2018-02-01 19:47:19.824   \n",
       "1         85422 2018-01-31 16:13:34.351 2018-02-01 15:57:17.310   \n",
       "2         71576 2018-01-31 14:23:55.889 2018-02-01 10:16:52.116   \n",
       "3         61076 2018-01-31 14:53:23.562 2018-02-01 07:51:20.500   \n",
       "4         39966 2018-01-31 19:52:24.667 2018-02-01 06:58:31.053   \n",
       "\n",
       "   start_station_id                                 start_station_name  \\\n",
       "0             120.0                               Mission Dolores Park   \n",
       "1              15.0  San Francisco Ferry Building (Harry Bridges Pl...   \n",
       "2             304.0                               Jackson St at 5th St   \n",
       "3              75.0                           Market St at Franklin St   \n",
       "4              74.0                              Laguna St at Hayes St   \n",
       "\n",
       "   start_station_latitude  start_station_longitude  end_station_id  \\\n",
       "0               37.761420              -122.426435           285.0   \n",
       "1               37.795392              -122.394203            15.0   \n",
       "2               37.348759              -121.894798           296.0   \n",
       "3               37.773793              -122.421239            47.0   \n",
       "4               37.776435              -122.426244            19.0   \n",
       "\n",
       "                                    end_station_name  end_station_latitude  \\\n",
       "0                         Webster St at O'Farrell St             37.783521   \n",
       "1  San Francisco Ferry Building (Harry Bridges Pl...             37.795392   \n",
       "2                              5th St at Virginia St             37.325998   \n",
       "3                              4th St at Harrison St             37.780955   \n",
       "4                               Post St at Kearny St             37.788975   \n",
       "\n",
       "   end_station_longitude  bike_id   user_type  member_birth_year  \\\n",
       "0            -122.431158   2765.0  Subscriber             1986.0   \n",
       "1            -122.394203   2815.0    Customer             1985.0   \n",
       "2            -121.877120   3039.0    Customer             1996.0   \n",
       "3            -122.399749    321.0    Customer             1985.0   \n",
       "4            -122.403452    617.0  Subscriber             1991.0   \n",
       "\n",
       "  member_gender bike_share_for_all_trip  duration_min   age start_city_name  \\\n",
       "0          Male                      No   1254.733333  32.0   San Francisco   \n",
       "1         Other                      No   1423.700000  33.0   San Francisco   \n",
       "2          Male                      No   1192.933333  22.0        San Jose   \n",
       "3         Other                      No   1017.933333  33.0   San Francisco   \n",
       "4          Male                      No    666.100000  27.0   San Francisco   \n",
       "\n",
       "  start_state          start_county  end_city_name   end_state  \\\n",
       "0  California  San Francisco County  San Francisco  California   \n",
       "1  California  San Francisco County  San Francisco  California   \n",
       "2  California    Santa Clara County       San Jose  California   \n",
       "3  California  San Francisco County  San Francisco  California   \n",
       "4  California  San Francisco County  San Francisco  California   \n",
       "\n",
       "             end_county  \n",
       "0  San Francisco County  \n",
       "1  San Francisco County  \n",
       "2    Santa Clara County  \n",
       "3  San Francisco County  \n",
       "4  San Francisco County  "
      ]
     },
     "execution_count": 43,
     "metadata": {},
     "output_type": "execute_result"
    }
   ],
   "source": [
    "#check\n",
    "bikedata.head()"
   ]
  },
  {
   "cell_type": "code",
   "execution_count": 44,
   "metadata": {},
   "outputs": [
    {
     "name": "stdout",
     "output_type": "stream",
     "text": [
      "<class 'pandas.core.frame.DataFrame'>\n",
      "RangeIndex: 1863721 entries, 0 to 1863720\n",
      "Data columns (total 24 columns):\n",
      "duration_sec               int64\n",
      "start_time                 datetime64[ns]\n",
      "end_time                   datetime64[ns]\n",
      "start_station_id           float64\n",
      "start_station_name         object\n",
      "start_station_latitude     float64\n",
      "start_station_longitude    float64\n",
      "end_station_id             float64\n",
      "end_station_name           object\n",
      "end_station_latitude       float64\n",
      "end_station_longitude      float64\n",
      "bike_id                    float64\n",
      "user_type                  object\n",
      "member_birth_year          float64\n",
      "member_gender              object\n",
      "bike_share_for_all_trip    object\n",
      "duration_min               float64\n",
      "age                        float64\n",
      "start_city_name            object\n",
      "start_state                object\n",
      "start_county               object\n",
      "end_city_name              object\n",
      "end_state                  object\n",
      "end_county                 object\n",
      "dtypes: datetime64[ns](2), float64(10), int64(1), object(11)\n",
      "memory usage: 341.3+ MB\n"
     ]
    }
   ],
   "source": [
    "bikedata.info()"
   ]
  },
  {
   "cell_type": "markdown",
   "metadata": {},
   "source": [
    "**Change user_type column in to subscribers**\n",
    "* Subscriber = True\n",
    "* Customer = False"
   ]
  },
  {
   "cell_type": "code",
   "execution_count": 45,
   "metadata": {},
   "outputs": [],
   "source": [
    "#rename column\n",
    "bikedata.rename({'user_type':'subscriber'},axis = 1, inplace = True)"
   ]
  },
  {
   "cell_type": "code",
   "execution_count": 46,
   "metadata": {},
   "outputs": [],
   "source": [
    "#rename variables\n",
    "bikedata.subscriber.replace({'Subscriber':True, 'Customer':False}, inplace = True)"
   ]
  },
  {
   "cell_type": "code",
   "execution_count": 47,
   "metadata": {},
   "outputs": [
    {
     "data": {
      "text/plain": [
       "True     1583554\n",
       "False     280167\n",
       "Name: subscriber, dtype: int64"
      ]
     },
     "execution_count": 47,
     "metadata": {},
     "output_type": "execute_result"
    }
   ],
   "source": [
    "#check\n",
    "bikedata.subscriber.value_counts()"
   ]
  },
  {
   "cell_type": "markdown",
   "metadata": {},
   "source": [
    "**Create a new column called duration**\n",
    "* The values for the duration in minutes and seconds are very spread out\n",
    "* Change the values to just three categories: Short. Medium. Long\n",
    "* Short: 0-14 minutes\n",
    "* Medium: 14-30 minutes \n",
    "* Long: 30 minutes + (30 minutes is considered long because after 30 minutes members are charged more)"
   ]
  },
  {
   "cell_type": "code",
   "execution_count": 48,
   "metadata": {},
   "outputs": [],
   "source": [
    "bins = [0,14,30,np.inf]\n",
    "labels = ['short','medium','long']\n",
    "bikedata['duration'] = pd.cut(bikedata['duration_min'], bins =bins, labels = labels)"
   ]
  },
  {
   "cell_type": "code",
   "execution_count": 49,
   "metadata": {},
   "outputs": [
    {
     "data": {
      "text/plain": [
       "short     1365133\n",
       "medium     403401\n",
       "long        95187\n",
       "Name: duration, dtype: int64"
      ]
     },
     "execution_count": 49,
     "metadata": {},
     "output_type": "execute_result"
    }
   ],
   "source": [
    "#check\n",
    "bikedata['duration'].value_counts()"
   ]
  },
  {
   "cell_type": "markdown",
   "metadata": {},
   "source": [
    "## How can we increase revenue?\n",
    "> Increase the number of subscribers  \n",
    "Increase ride duration\n",
    "### What is/are the main feature(s) of interest in your dataset?\n",
    "\n",
    "> The main feature of interest will be the duration column\n",
    "### What features in the dataset do you think will help support your investigation into your feature(s) of interest?\n",
    "\n",
    ">  The gender, age, subscriber, time and county will be helpful inorder to get to know more about the duration"
   ]
  },
  {
   "cell_type": "markdown",
   "metadata": {},
   "source": [
    "## Univariate Exploration"
   ]
  },
  {
   "cell_type": "code",
   "execution_count": 50,
   "metadata": {},
   "outputs": [
    {
     "data": {
      "text/html": [
       "<div>\n",
       "<style scoped>\n",
       "    .dataframe tbody tr th:only-of-type {\n",
       "        vertical-align: middle;\n",
       "    }\n",
       "\n",
       "    .dataframe tbody tr th {\n",
       "        vertical-align: top;\n",
       "    }\n",
       "\n",
       "    .dataframe thead th {\n",
       "        text-align: right;\n",
       "    }\n",
       "</style>\n",
       "<table border=\"1\" class=\"dataframe\">\n",
       "  <thead>\n",
       "    <tr style=\"text-align: right;\">\n",
       "      <th></th>\n",
       "      <th>duration_sec</th>\n",
       "      <th>start_time</th>\n",
       "      <th>end_time</th>\n",
       "      <th>start_station_id</th>\n",
       "      <th>start_station_name</th>\n",
       "      <th>start_station_latitude</th>\n",
       "      <th>start_station_longitude</th>\n",
       "      <th>end_station_id</th>\n",
       "      <th>end_station_name</th>\n",
       "      <th>end_station_latitude</th>\n",
       "      <th>end_station_longitude</th>\n",
       "      <th>bike_id</th>\n",
       "      <th>subscriber</th>\n",
       "      <th>member_birth_year</th>\n",
       "      <th>member_gender</th>\n",
       "      <th>bike_share_for_all_trip</th>\n",
       "      <th>duration_min</th>\n",
       "      <th>age</th>\n",
       "      <th>start_city_name</th>\n",
       "      <th>start_state</th>\n",
       "      <th>start_county</th>\n",
       "      <th>end_city_name</th>\n",
       "      <th>end_state</th>\n",
       "      <th>end_county</th>\n",
       "      <th>duration</th>\n",
       "    </tr>\n",
       "  </thead>\n",
       "  <tbody>\n",
       "    <tr>\n",
       "      <th>0</th>\n",
       "      <td>75284</td>\n",
       "      <td>2018-01-31 22:52:35.239</td>\n",
       "      <td>2018-02-01 19:47:19.824</td>\n",
       "      <td>120.0</td>\n",
       "      <td>Mission Dolores Park</td>\n",
       "      <td>37.761420</td>\n",
       "      <td>-122.426435</td>\n",
       "      <td>285.0</td>\n",
       "      <td>Webster St at O'Farrell St</td>\n",
       "      <td>37.783521</td>\n",
       "      <td>-122.431158</td>\n",
       "      <td>2765.0</td>\n",
       "      <td>True</td>\n",
       "      <td>1986.0</td>\n",
       "      <td>Male</td>\n",
       "      <td>No</td>\n",
       "      <td>1254.733333</td>\n",
       "      <td>32.0</td>\n",
       "      <td>San Francisco</td>\n",
       "      <td>California</td>\n",
       "      <td>San Francisco County</td>\n",
       "      <td>San Francisco</td>\n",
       "      <td>California</td>\n",
       "      <td>San Francisco County</td>\n",
       "      <td>long</td>\n",
       "    </tr>\n",
       "    <tr>\n",
       "      <th>1</th>\n",
       "      <td>85422</td>\n",
       "      <td>2018-01-31 16:13:34.351</td>\n",
       "      <td>2018-02-01 15:57:17.310</td>\n",
       "      <td>15.0</td>\n",
       "      <td>San Francisco Ferry Building (Harry Bridges Pl...</td>\n",
       "      <td>37.795392</td>\n",
       "      <td>-122.394203</td>\n",
       "      <td>15.0</td>\n",
       "      <td>San Francisco Ferry Building (Harry Bridges Pl...</td>\n",
       "      <td>37.795392</td>\n",
       "      <td>-122.394203</td>\n",
       "      <td>2815.0</td>\n",
       "      <td>False</td>\n",
       "      <td>1985.0</td>\n",
       "      <td>Other</td>\n",
       "      <td>No</td>\n",
       "      <td>1423.700000</td>\n",
       "      <td>33.0</td>\n",
       "      <td>San Francisco</td>\n",
       "      <td>California</td>\n",
       "      <td>San Francisco County</td>\n",
       "      <td>San Francisco</td>\n",
       "      <td>California</td>\n",
       "      <td>San Francisco County</td>\n",
       "      <td>long</td>\n",
       "    </tr>\n",
       "    <tr>\n",
       "      <th>2</th>\n",
       "      <td>71576</td>\n",
       "      <td>2018-01-31 14:23:55.889</td>\n",
       "      <td>2018-02-01 10:16:52.116</td>\n",
       "      <td>304.0</td>\n",
       "      <td>Jackson St at 5th St</td>\n",
       "      <td>37.348759</td>\n",
       "      <td>-121.894798</td>\n",
       "      <td>296.0</td>\n",
       "      <td>5th St at Virginia St</td>\n",
       "      <td>37.325998</td>\n",
       "      <td>-121.877120</td>\n",
       "      <td>3039.0</td>\n",
       "      <td>False</td>\n",
       "      <td>1996.0</td>\n",
       "      <td>Male</td>\n",
       "      <td>No</td>\n",
       "      <td>1192.933333</td>\n",
       "      <td>22.0</td>\n",
       "      <td>San Jose</td>\n",
       "      <td>California</td>\n",
       "      <td>Santa Clara County</td>\n",
       "      <td>San Jose</td>\n",
       "      <td>California</td>\n",
       "      <td>Santa Clara County</td>\n",
       "      <td>long</td>\n",
       "    </tr>\n",
       "    <tr>\n",
       "      <th>3</th>\n",
       "      <td>61076</td>\n",
       "      <td>2018-01-31 14:53:23.562</td>\n",
       "      <td>2018-02-01 07:51:20.500</td>\n",
       "      <td>75.0</td>\n",
       "      <td>Market St at Franklin St</td>\n",
       "      <td>37.773793</td>\n",
       "      <td>-122.421239</td>\n",
       "      <td>47.0</td>\n",
       "      <td>4th St at Harrison St</td>\n",
       "      <td>37.780955</td>\n",
       "      <td>-122.399749</td>\n",
       "      <td>321.0</td>\n",
       "      <td>False</td>\n",
       "      <td>1985.0</td>\n",
       "      <td>Other</td>\n",
       "      <td>No</td>\n",
       "      <td>1017.933333</td>\n",
       "      <td>33.0</td>\n",
       "      <td>San Francisco</td>\n",
       "      <td>California</td>\n",
       "      <td>San Francisco County</td>\n",
       "      <td>San Francisco</td>\n",
       "      <td>California</td>\n",
       "      <td>San Francisco County</td>\n",
       "      <td>long</td>\n",
       "    </tr>\n",
       "    <tr>\n",
       "      <th>4</th>\n",
       "      <td>39966</td>\n",
       "      <td>2018-01-31 19:52:24.667</td>\n",
       "      <td>2018-02-01 06:58:31.053</td>\n",
       "      <td>74.0</td>\n",
       "      <td>Laguna St at Hayes St</td>\n",
       "      <td>37.776435</td>\n",
       "      <td>-122.426244</td>\n",
       "      <td>19.0</td>\n",
       "      <td>Post St at Kearny St</td>\n",
       "      <td>37.788975</td>\n",
       "      <td>-122.403452</td>\n",
       "      <td>617.0</td>\n",
       "      <td>True</td>\n",
       "      <td>1991.0</td>\n",
       "      <td>Male</td>\n",
       "      <td>No</td>\n",
       "      <td>666.100000</td>\n",
       "      <td>27.0</td>\n",
       "      <td>San Francisco</td>\n",
       "      <td>California</td>\n",
       "      <td>San Francisco County</td>\n",
       "      <td>San Francisco</td>\n",
       "      <td>California</td>\n",
       "      <td>San Francisco County</td>\n",
       "      <td>long</td>\n",
       "    </tr>\n",
       "  </tbody>\n",
       "</table>\n",
       "</div>"
      ],
      "text/plain": [
       "   duration_sec              start_time                end_time  \\\n",
       "0         75284 2018-01-31 22:52:35.239 2018-02-01 19:47:19.824   \n",
       "1         85422 2018-01-31 16:13:34.351 2018-02-01 15:57:17.310   \n",
       "2         71576 2018-01-31 14:23:55.889 2018-02-01 10:16:52.116   \n",
       "3         61076 2018-01-31 14:53:23.562 2018-02-01 07:51:20.500   \n",
       "4         39966 2018-01-31 19:52:24.667 2018-02-01 06:58:31.053   \n",
       "\n",
       "   start_station_id                                 start_station_name  \\\n",
       "0             120.0                               Mission Dolores Park   \n",
       "1              15.0  San Francisco Ferry Building (Harry Bridges Pl...   \n",
       "2             304.0                               Jackson St at 5th St   \n",
       "3              75.0                           Market St at Franklin St   \n",
       "4              74.0                              Laguna St at Hayes St   \n",
       "\n",
       "   start_station_latitude  start_station_longitude  end_station_id  \\\n",
       "0               37.761420              -122.426435           285.0   \n",
       "1               37.795392              -122.394203            15.0   \n",
       "2               37.348759              -121.894798           296.0   \n",
       "3               37.773793              -122.421239            47.0   \n",
       "4               37.776435              -122.426244            19.0   \n",
       "\n",
       "                                    end_station_name  end_station_latitude  \\\n",
       "0                         Webster St at O'Farrell St             37.783521   \n",
       "1  San Francisco Ferry Building (Harry Bridges Pl...             37.795392   \n",
       "2                              5th St at Virginia St             37.325998   \n",
       "3                              4th St at Harrison St             37.780955   \n",
       "4                               Post St at Kearny St             37.788975   \n",
       "\n",
       "   end_station_longitude  bike_id  subscriber  member_birth_year  \\\n",
       "0            -122.431158   2765.0        True             1986.0   \n",
       "1            -122.394203   2815.0       False             1985.0   \n",
       "2            -121.877120   3039.0       False             1996.0   \n",
       "3            -122.399749    321.0       False             1985.0   \n",
       "4            -122.403452    617.0        True             1991.0   \n",
       "\n",
       "  member_gender bike_share_for_all_trip  duration_min   age start_city_name  \\\n",
       "0          Male                      No   1254.733333  32.0   San Francisco   \n",
       "1         Other                      No   1423.700000  33.0   San Francisco   \n",
       "2          Male                      No   1192.933333  22.0        San Jose   \n",
       "3         Other                      No   1017.933333  33.0   San Francisco   \n",
       "4          Male                      No    666.100000  27.0   San Francisco   \n",
       "\n",
       "  start_state          start_county  end_city_name   end_state  \\\n",
       "0  California  San Francisco County  San Francisco  California   \n",
       "1  California  San Francisco County  San Francisco  California   \n",
       "2  California    Santa Clara County       San Jose  California   \n",
       "3  California  San Francisco County  San Francisco  California   \n",
       "4  California  San Francisco County  San Francisco  California   \n",
       "\n",
       "             end_county duration  \n",
       "0  San Francisco County     long  \n",
       "1  San Francisco County     long  \n",
       "2    Santa Clara County     long  \n",
       "3  San Francisco County     long  \n",
       "4  San Francisco County     long  "
      ]
     },
     "execution_count": 50,
     "metadata": {},
     "output_type": "execute_result"
    }
   ],
   "source": [
    "bikedata.head()"
   ]
  },
  {
   "cell_type": "code",
   "execution_count": 51,
   "metadata": {},
   "outputs": [
    {
     "data": {
      "text/html": [
       "<div>\n",
       "<style scoped>\n",
       "    .dataframe tbody tr th:only-of-type {\n",
       "        vertical-align: middle;\n",
       "    }\n",
       "\n",
       "    .dataframe tbody tr th {\n",
       "        vertical-align: top;\n",
       "    }\n",
       "\n",
       "    .dataframe thead th {\n",
       "        text-align: right;\n",
       "    }\n",
       "</style>\n",
       "<table border=\"1\" class=\"dataframe\">\n",
       "  <thead>\n",
       "    <tr style=\"text-align: right;\">\n",
       "      <th></th>\n",
       "      <th>duration_sec</th>\n",
       "      <th>start_station_id</th>\n",
       "      <th>start_station_latitude</th>\n",
       "      <th>start_station_longitude</th>\n",
       "      <th>end_station_id</th>\n",
       "      <th>end_station_latitude</th>\n",
       "      <th>end_station_longitude</th>\n",
       "      <th>bike_id</th>\n",
       "      <th>member_birth_year</th>\n",
       "      <th>duration_min</th>\n",
       "      <th>age</th>\n",
       "    </tr>\n",
       "  </thead>\n",
       "  <tbody>\n",
       "    <tr>\n",
       "      <th>count</th>\n",
       "      <td>1.863721e+06</td>\n",
       "      <td>1.851950e+06</td>\n",
       "      <td>1.863721e+06</td>\n",
       "      <td>1.863721e+06</td>\n",
       "      <td>1.851950e+06</td>\n",
       "      <td>1.863721e+06</td>\n",
       "      <td>1.863721e+06</td>\n",
       "      <td>1.863721e+06</td>\n",
       "      <td>1.863721e+06</td>\n",
       "      <td>1.863721e+06</td>\n",
       "      <td>1.863721e+06</td>\n",
       "    </tr>\n",
       "    <tr>\n",
       "      <th>mean</th>\n",
       "      <td>8.573026e+02</td>\n",
       "      <td>1.196744e+02</td>\n",
       "      <td>3.776678e+01</td>\n",
       "      <td>-1.223492e+02</td>\n",
       "      <td>1.181730e+02</td>\n",
       "      <td>3.776690e+01</td>\n",
       "      <td>-1.223487e+02</td>\n",
       "      <td>2.296851e+03</td>\n",
       "      <td>1.983261e+03</td>\n",
       "      <td>1.428838e+01</td>\n",
       "      <td>3.473884e+01</td>\n",
       "    </tr>\n",
       "    <tr>\n",
       "      <th>std</th>\n",
       "      <td>2.370379e+03</td>\n",
       "      <td>1.003976e+02</td>\n",
       "      <td>1.057689e-01</td>\n",
       "      <td>1.654634e-01</td>\n",
       "      <td>1.004403e+02</td>\n",
       "      <td>1.056483e-01</td>\n",
       "      <td>1.650597e-01</td>\n",
       "      <td>1.287733e+03</td>\n",
       "      <td>9.911578e+00</td>\n",
       "      <td>3.950631e+01</td>\n",
       "      <td>9.911578e+00</td>\n",
       "    </tr>\n",
       "    <tr>\n",
       "      <th>min</th>\n",
       "      <td>6.100000e+01</td>\n",
       "      <td>3.000000e+00</td>\n",
       "      <td>3.726331e+01</td>\n",
       "      <td>-1.224737e+02</td>\n",
       "      <td>3.000000e+00</td>\n",
       "      <td>3.726331e+01</td>\n",
       "      <td>-1.224737e+02</td>\n",
       "      <td>1.100000e+01</td>\n",
       "      <td>1.930000e+03</td>\n",
       "      <td>1.016667e+00</td>\n",
       "      <td>1.800000e+01</td>\n",
       "    </tr>\n",
       "    <tr>\n",
       "      <th>25%</th>\n",
       "      <td>3.500000e+02</td>\n",
       "      <td>3.300000e+01</td>\n",
       "      <td>3.777106e+01</td>\n",
       "      <td>-1.224114e+02</td>\n",
       "      <td>3.000000e+01</td>\n",
       "      <td>3.777106e+01</td>\n",
       "      <td>-1.224094e+02</td>\n",
       "      <td>1.225000e+03</td>\n",
       "      <td>1.979000e+03</td>\n",
       "      <td>5.833333e+00</td>\n",
       "      <td>2.800000e+01</td>\n",
       "    </tr>\n",
       "    <tr>\n",
       "      <th>50%</th>\n",
       "      <td>5.560000e+02</td>\n",
       "      <td>8.900000e+01</td>\n",
       "      <td>3.778107e+01</td>\n",
       "      <td>-1.223974e+02</td>\n",
       "      <td>8.800000e+01</td>\n",
       "      <td>3.778127e+01</td>\n",
       "      <td>-1.223971e+02</td>\n",
       "      <td>2.338000e+03</td>\n",
       "      <td>1.985000e+03</td>\n",
       "      <td>9.266667e+00</td>\n",
       "      <td>3.300000e+01</td>\n",
       "    </tr>\n",
       "    <tr>\n",
       "      <th>75%</th>\n",
       "      <td>8.720000e+02</td>\n",
       "      <td>1.860000e+02</td>\n",
       "      <td>3.779625e+01</td>\n",
       "      <td>-1.222865e+02</td>\n",
       "      <td>1.830000e+02</td>\n",
       "      <td>3.779728e+01</td>\n",
       "      <td>-1.222894e+02</td>\n",
       "      <td>3.333000e+03</td>\n",
       "      <td>1.990000e+03</td>\n",
       "      <td>1.453333e+01</td>\n",
       "      <td>3.900000e+01</td>\n",
       "    </tr>\n",
       "    <tr>\n",
       "      <th>max</th>\n",
       "      <td>8.636600e+04</td>\n",
       "      <td>3.810000e+02</td>\n",
       "      <td>4.551000e+01</td>\n",
       "      <td>-7.357000e+01</td>\n",
       "      <td>3.810000e+02</td>\n",
       "      <td>4.551000e+01</td>\n",
       "      <td>-7.357000e+01</td>\n",
       "      <td>6.234000e+03</td>\n",
       "      <td>2.000000e+03</td>\n",
       "      <td>1.439433e+03</td>\n",
       "      <td>8.800000e+01</td>\n",
       "    </tr>\n",
       "  </tbody>\n",
       "</table>\n",
       "</div>"
      ],
      "text/plain": [
       "       duration_sec  start_station_id  start_station_latitude  \\\n",
       "count  1.863721e+06      1.851950e+06            1.863721e+06   \n",
       "mean   8.573026e+02      1.196744e+02            3.776678e+01   \n",
       "std    2.370379e+03      1.003976e+02            1.057689e-01   \n",
       "min    6.100000e+01      3.000000e+00            3.726331e+01   \n",
       "25%    3.500000e+02      3.300000e+01            3.777106e+01   \n",
       "50%    5.560000e+02      8.900000e+01            3.778107e+01   \n",
       "75%    8.720000e+02      1.860000e+02            3.779625e+01   \n",
       "max    8.636600e+04      3.810000e+02            4.551000e+01   \n",
       "\n",
       "       start_station_longitude  end_station_id  end_station_latitude  \\\n",
       "count             1.863721e+06    1.851950e+06          1.863721e+06   \n",
       "mean             -1.223492e+02    1.181730e+02          3.776690e+01   \n",
       "std               1.654634e-01    1.004403e+02          1.056483e-01   \n",
       "min              -1.224737e+02    3.000000e+00          3.726331e+01   \n",
       "25%              -1.224114e+02    3.000000e+01          3.777106e+01   \n",
       "50%              -1.223974e+02    8.800000e+01          3.778127e+01   \n",
       "75%              -1.222865e+02    1.830000e+02          3.779728e+01   \n",
       "max              -7.357000e+01    3.810000e+02          4.551000e+01   \n",
       "\n",
       "       end_station_longitude       bike_id  member_birth_year  duration_min  \\\n",
       "count           1.863721e+06  1.863721e+06       1.863721e+06  1.863721e+06   \n",
       "mean           -1.223487e+02  2.296851e+03       1.983261e+03  1.428838e+01   \n",
       "std             1.650597e-01  1.287733e+03       9.911578e+00  3.950631e+01   \n",
       "min            -1.224737e+02  1.100000e+01       1.930000e+03  1.016667e+00   \n",
       "25%            -1.224094e+02  1.225000e+03       1.979000e+03  5.833333e+00   \n",
       "50%            -1.223971e+02  2.338000e+03       1.985000e+03  9.266667e+00   \n",
       "75%            -1.222894e+02  3.333000e+03       1.990000e+03  1.453333e+01   \n",
       "max            -7.357000e+01  6.234000e+03       2.000000e+03  1.439433e+03   \n",
       "\n",
       "                age  \n",
       "count  1.863721e+06  \n",
       "mean   3.473884e+01  \n",
       "std    9.911578e+00  \n",
       "min    1.800000e+01  \n",
       "25%    2.800000e+01  \n",
       "50%    3.300000e+01  \n",
       "75%    3.900000e+01  \n",
       "max    8.800000e+01  "
      ]
     },
     "execution_count": 51,
     "metadata": {},
     "output_type": "execute_result"
    }
   ],
   "source": [
    "bikedata.describe()"
   ]
  },
  {
   "cell_type": "code",
   "execution_count": 52,
   "metadata": {},
   "outputs": [
    {
     "data": {
      "text/plain": [
       "Text(0.5, 0, 'duration in minutes')"
      ]
     },
     "execution_count": 52,
     "metadata": {},
     "output_type": "execute_result"
    },
    {
     "data": {
      "image/png": "[encoded data removed]",
      "text/plain": [
       "<Figure size 432x288 with 1 Axes>"
      ]
     },
     "metadata": {
      "needs_background": "light"
     },
     "output_type": "display_data"
    }
   ],
   "source": [
    "#plot the duration of bikeshare use in minutes\n",
    "plt.hist(data =bikedata, x= 'duration_min', bins = 500)\n",
    "plt.xlim(0,100)\n",
    "plt.xlabel('duration in minutes')"
   ]
  },
  {
   "cell_type": "markdown",
   "metadata": {},
   "source": [
    "Duration_min follows a right skew pattern, most of the rides were between 0-20 minutes long. We know that the company only charges extra for minutes after 30 minutes, but why are most riders riding for less than 30 minutes? (explore this later) Lets look at the age of our riders next."
   ]
  },
  {
   "cell_type": "code",
   "execution_count": 53,
   "metadata": {},
   "outputs": [
    {
     "data": {
      "image/png": "[encoded data removed]",
      "text/plain": [
       "<Figure size 1080x360 with 1 Axes>"
      ]
     },
     "metadata": {
      "needs_background": "light"
     },
     "output_type": "display_data"
    }
   ],
   "source": [
    "#plot the frequency the different ages that used bikeshare\n",
    "plt.figure(figsize = (15,5))\n",
    "sns.countplot(x='age',data = bikedata)\n",
    "plt.xticks(rotation = 45);"
   ]
  },
  {
   "cell_type": "code",
   "execution_count": 54,
   "metadata": {},
   "outputs": [
    {
     "data": {
      "text/plain": [
       "<matplotlib.axes._subplots.AxesSubplot at 0x185c3a667b8>"
      ]
     },
     "execution_count": 54,
     "metadata": {},
     "output_type": "execute_result"
    },
    {
     "data": {
      "image/png": "[encoded data removed]",
      "text/plain": [
       "<Figure size 432x288 with 1 Axes>"
      ]
     },
     "metadata": {
      "needs_background": "light"
     },
     "output_type": "display_data"
    }
   ],
   "source": [
    "sns.boxplot(bikedata.age)"
   ]
  },
  {
   "cell_type": "markdown",
   "metadata": {},
   "source": [
    "From the bar chart of all the ages that used bike share. Those that were 33 years old rode the most. From the boxplot we can see that most of our users are between 25-40 years old. Why are there so many more 33 year olds then the other ages? Maybe the default year during subscription is set to 1985? Lets look at the gender of those who are using bikeshare next."
   ]
  },
  {
   "cell_type": "code",
   "execution_count": 55,
   "metadata": {},
   "outputs": [
    {
     "data": {
      "text/plain": [
       "<matplotlib.axes._subplots.AxesSubplot at 0x185c3c3eeb8>"
      ]
     },
     "execution_count": 55,
     "metadata": {},
     "output_type": "execute_result"
    },
    {
     "data": {
      "image/png": "[encoded data removed]",
      "text/plain": [
       "<Figure size 432x288 with 1 Axes>"
      ]
     },
     "metadata": {
      "needs_background": "light"
     },
     "output_type": "display_data"
    }
   ],
   "source": [
    "#plot the frequency of the genders that used bikeshare\n",
    "sns.countplot(x='member_gender',data = bikedata, order = ['Male','Female','Other'])"
   ]
  },
  {
   "cell_type": "markdown",
   "metadata": {},
   "source": [
    "Wow we can see that Males used bike share the most. Males used bikeshare 2x more than females. Why are there more male riders than females riders? Lets look at the frequency of the month of use using the start_time."
   ]
  },
  {
   "cell_type": "code",
   "execution_count": 56,
   "metadata": {},
   "outputs": [
    {
     "data": {
      "text/plain": [
       "Text(0.5, 0, 'months')"
      ]
     },
     "execution_count": 56,
     "metadata": {},
     "output_type": "execute_result"
    },
    {
     "data": {
      "image/png": "[encoded data removed]",
      "text/plain": [
       "<Figure size 432x288 with 1 Axes>"
      ]
     },
     "metadata": {
      "needs_background": "light"
     },
     "output_type": "display_data"
    }
   ],
   "source": [
    "sns.countplot(x = bikedata.start_time.dt.month, data= bikedata)\n",
    "plt.xlabel('months')"
   ]
  },
  {
   "cell_type": "markdown",
   "metadata": {},
   "source": [
    "We can see that the use of bikeshare is goes up from january to october and drops down on november. Does this mean users prefer to ride the bikes during hotter months? Lets check how many of our riders are subscribers next."
   ]
  },
  {
   "cell_type": "code",
   "execution_count": 57,
   "metadata": {},
   "outputs": [
    {
     "data": {
      "text/plain": [
       "<matplotlib.axes._subplots.AxesSubplot at 0x185dae667b8>"
      ]
     },
     "execution_count": 57,
     "metadata": {},
     "output_type": "execute_result"
    },
    {
     "data": {
      "image/png": "[encoded data removed]",
      "text/plain": [
       "<Figure size 432x288 with 1 Axes>"
      ]
     },
     "metadata": {
      "needs_background": "light"
     },
     "output_type": "display_data"
    }
   ],
   "source": [
    "#plot of the number of subscribers\n",
    "sns.countplot(x= 'subscriber',data= bikedata)"
   ]
  },
  {
   "cell_type": "markdown",
   "metadata": {},
   "source": [
    "Most of the users that used bikeshare were subscribers. Wow there are a lot of subscribers. Does the subscribers impact the duration in bike use? Lets check out the duration of bike use next."
   ]
  },
  {
   "cell_type": "code",
   "execution_count": 58,
   "metadata": {},
   "outputs": [
    {
     "data": {
      "text/plain": [
       "<matplotlib.axes._subplots.AxesSubplot at 0x185da9ab710>"
      ]
     },
     "execution_count": 58,
     "metadata": {},
     "output_type": "execute_result"
    },
    {
     "data": {
      "image/png": "[encoded data removed]",
      "text/plain": [
       "<Figure size 432x288 with 1 Axes>"
      ]
     },
     "metadata": {
      "needs_background": "light"
     },
     "output_type": "display_data"
    }
   ],
   "source": [
    "sns.countplot(x='duration', data=bikedata)"
   ]
  },
  {
   "cell_type": "markdown",
   "metadata": {},
   "source": [
    "Most rides were short meaning that they were under 14 minutes long. Does this mean that most of the subscribers rode for a shorter period?"
   ]
  },
  {
   "cell_type": "code",
   "execution_count": 83,
   "metadata": {},
   "outputs": [
    {
     "data": {
      "text/plain": [
       "<matplotlib.axes._subplots.AxesSubplot at 0x186674fae10>"
      ]
     },
     "execution_count": 83,
     "metadata": {},
     "output_type": "execute_result"
    },
    {
     "data": {
      "image/png": "[encoded data removed]",
      "text/plain": [
       "<Figure size 432x288 with 1 Axes>"
      ]
     },
     "metadata": {
      "needs_background": "light"
     },
     "output_type": "display_data"
    }
   ],
   "source": [
    "sns.countplot(x= 'start_county',data= bikedata, order =['San Francisco County','Alameda County', 'Santa Clara County'])"
   ]
  },
  {
   "cell_type": "markdown",
   "metadata": {},
   "source": [
    "## Bivariate Exploration"
   ]
  },
  {
   "cell_type": "markdown",
   "metadata": {},
   "source": [
    "`Subscriber vs Duration`"
   ]
  },
  {
   "cell_type": "code",
   "execution_count": 59,
   "metadata": {},
   "outputs": [
    {
     "data": {
      "text/html": [
       "<div>\n",
       "<style scoped>\n",
       "    .dataframe tbody tr th:only-of-type {\n",
       "        vertical-align: middle;\n",
       "    }\n",
       "\n",
       "    .dataframe tbody tr th {\n",
       "        vertical-align: top;\n",
       "    }\n",
       "\n",
       "    .dataframe thead th {\n",
       "        text-align: right;\n",
       "    }\n",
       "</style>\n",
       "<table border=\"1\" class=\"dataframe\">\n",
       "  <thead>\n",
       "    <tr style=\"text-align: right;\">\n",
       "      <th></th>\n",
       "      <th>subscriber</th>\n",
       "      <th>duration_min</th>\n",
       "    </tr>\n",
       "  </thead>\n",
       "  <tbody>\n",
       "    <tr>\n",
       "      <th>0</th>\n",
       "      <td>False</td>\n",
       "      <td>32.046325</td>\n",
       "    </tr>\n",
       "    <tr>\n",
       "      <th>1</th>\n",
       "      <td>True</td>\n",
       "      <td>11.146588</td>\n",
       "    </tr>\n",
       "  </tbody>\n",
       "</table>\n",
       "</div>"
      ],
      "text/plain": [
       "   subscriber  duration_min\n",
       "0       False     32.046325\n",
       "1        True     11.146588"
      ]
     },
     "execution_count": 59,
     "metadata": {},
     "output_type": "execute_result"
    }
   ],
   "source": [
    "#plot duration of ride and whether or not the rider is a subscriber\n",
    "d = pd.pivot_table(data=bikedata, values='duration_min', index='subscriber').reset_index()\n",
    "d"
   ]
  },
  {
   "cell_type": "code",
   "execution_count": 60,
   "metadata": {},
   "outputs": [
    {
     "data": {
      "text/plain": [
       "Text(0.5, 1.0, 'Duration of ride of users')"
      ]
     },
     "execution_count": 60,
     "metadata": {},
     "output_type": "execute_result"
    },
    {
     "data": {
      "image/png": "[encoded data removed]",
      "text/plain": [
       "<Figure size 432x288 with 1 Axes>"
      ]
     },
     "metadata": {
      "needs_background": "light"
     },
     "output_type": "display_data"
    }
   ],
   "source": [
    "#plotting duration of ride in y and user type in x\n",
    "plt.bar(x='subscriber', height = 'duration_min', data = d, tick_label = ['Not-Subscriber','Subscriber'])\n",
    "plt.ylabel('duration_min')\n",
    "plt.title('Duration of ride of users')"
   ]
  },
  {
   "cell_type": "code",
   "execution_count": 61,
   "metadata": {},
   "outputs": [
    {
     "data": {
      "text/plain": [
       "<matplotlib.axes._subplots.AxesSubplot at 0x185daa43f60>"
      ]
     },
     "execution_count": 61,
     "metadata": {},
     "output_type": "execute_result"
    },
    {
     "data": {
      "image/png": "[encoded data removed]",
      "text/plain": [
       "<Figure size 432x288 with 1 Axes>"
      ]
     },
     "metadata": {
      "needs_background": "light"
     },
     "output_type": "display_data"
    }
   ],
   "source": [
    "sns.countplot(x= 'subscriber', hue='duration', data = bikedata)"
   ]
  },
  {
   "cell_type": "markdown",
   "metadata": {},
   "source": [
    "The first plot shows that non subscribers rode the bikes for a longer time than the subscribers. The second plot shows that non-subscribers were less varied in the duration of their trips than subscribers. Subscribers mostly rode the bikes for a shorter period."
   ]
  },
  {
   "cell_type": "code",
   "execution_count": 62,
   "metadata": {},
   "outputs": [],
   "source": [
    "#get the rows where start_county == end_county\n",
    "start_end = bikedata[bikedata.start_county == bikedata.end_county].copy()\n",
    "#filter so that we only have the three county's that we want\n",
    "three_county = start_end.query(\"start_county == 'San Francisco County' |start_county == 'Alameda County' | start_county =='Santa Clara County'\")"
   ]
  },
  {
   "cell_type": "markdown",
   "metadata": {},
   "source": [
    "`County vs Duration`"
   ]
  },
  {
   "cell_type": "code",
   "execution_count": 63,
   "metadata": {},
   "outputs": [
    {
     "data": {
      "text/plain": [
       "<BarContainer object of 3 artists>"
      ]
     },
     "execution_count": 63,
     "metadata": {},
     "output_type": "execute_result"
    },
    {
     "data": {
      "image/png": "[encoded data removed]",
      "text/plain": [
       "<Figure size 432x288 with 1 Axes>"
      ]
     },
     "metadata": {
      "needs_background": "light"
     },
     "output_type": "display_data"
    }
   ],
   "source": [
    "#average duration and county\n",
    "plt.bar(x = three_county.groupby('start_county')['duration_min'].mean().index, height = three_county.groupby('start_county')['duration_min'].mean())"
   ]
  },
  {
   "cell_type": "code",
   "execution_count": 64,
   "metadata": {},
   "outputs": [
    {
     "data": {
      "text/plain": [
       "(0, 60)"
      ]
     },
     "execution_count": 64,
     "metadata": {},
     "output_type": "execute_result"
    },
    {
     "data": {
      "image/png": "[encoded data removed]",
      "text/plain": [
       "<Figure size 432x288 with 1 Axes>"
      ]
     },
     "metadata": {
      "needs_background": "light"
     },
     "output_type": "display_data"
    }
   ],
   "source": [
    "#duration and county\n",
    "sns.violinplot(data =three_county, x = 'start_county', y='duration_min', order = ['Alameda County','San Francisco County', 'Santa Clara County'])\n",
    "plt.ylim(0,60)"
   ]
  },
  {
   "cell_type": "markdown",
   "metadata": {},
   "source": [
    "From the data we can see that the duration of rides were similar throughout the three counties. However Alameda County had the lowest average duration of rides at around 12.5 minutes. We can also see that throughout the three County's most people rode the bikes for around 10 minutes."
   ]
  },
  {
   "cell_type": "markdown",
   "metadata": {},
   "source": [
    "`Duration vs Age`"
   ]
  },
  {
   "cell_type": "code",
   "execution_count": 84,
   "metadata": {},
   "outputs": [
    {
     "data": {
      "text/plain": [
       "Text(0, 0.5, 'Duration (min)')"
      ]
     },
     "execution_count": 84,
     "metadata": {},
     "output_type": "execute_result"
    },
    {
     "data": {
      "image/png": "[encoded data removed]",
      "text/plain": [
       "<Figure size 432x288 with 1 Axes>"
      ]
     },
     "metadata": {
      "needs_background": "light"
     },
     "output_type": "display_data"
    }
   ],
   "source": [
    "#scatter plot of age in x and duration in minutes in y\n",
    "plt.scatter(x= 'age', y='duration_min', data = bikedata, alpha = .1)\n",
    "plt.xlabel('Age')\n",
    "plt.ylabel('Duration (min)')"
   ]
  },
  {
   "cell_type": "code",
   "execution_count": 66,
   "metadata": {},
   "outputs": [
    {
     "data": {
      "text/plain": [
       "<matplotlib.axes._subplots.AxesSubplot at 0x185dabd7c50>"
      ]
     },
     "execution_count": 66,
     "metadata": {},
     "output_type": "execute_result"
    },
    {
     "data": {
      "image/png": "[encoded data removed]",
      "text/plain": [
       "<Figure size 432x288 with 1 Axes>"
      ]
     },
     "metadata": {
      "needs_background": "light"
     },
     "output_type": "display_data"
    }
   ],
   "source": [
    "sns.violinplot(x='duration', y='age',data= bikedata)"
   ]
  },
  {
   "cell_type": "markdown",
   "metadata": {},
   "source": [
    "Overall the data seems to show that younger people rode on the bikes for longer periods of time. However, there is a weird pattern at the age 33 mark. But this was not a surprise as we already graphed the frequency of the member's ages. The members who rode the bikes for a long period of time happened to be mostly in their early 30's"
   ]
  },
  {
   "cell_type": "markdown",
   "metadata": {},
   "source": [
    "`Gender vs Duration`"
   ]
  },
  {
   "cell_type": "code",
   "execution_count": 67,
   "metadata": {},
   "outputs": [
    {
     "data": {
      "text/plain": [
       "(0, 50)"
      ]
     },
     "execution_count": 67,
     "metadata": {},
     "output_type": "execute_result"
    },
    {
     "data": {
      "image/png": "[encoded data removed]",
      "text/plain": [
       "<Figure size 432x288 with 1 Axes>"
      ]
     },
     "metadata": {
      "needs_background": "light"
     },
     "output_type": "display_data"
    }
   ],
   "source": [
    "sns.violinplot(x='member_gender', y ='duration_min', data= bikedata)\n",
    "plt.ylim(0,50)"
   ]
  },
  {
   "cell_type": "markdown",
   "metadata": {},
   "source": [
    "Both males and females seemed to ride a similar amount, mostly around 12 minutes. Those that did not disclose their gender varied more in duration than those who did."
   ]
  },
  {
   "cell_type": "code",
   "execution_count": 68,
   "metadata": {},
   "outputs": [
    {
     "data": {
      "text/plain": [
       "<matplotlib.axes._subplots.AxesSubplot at 0x185dac5cf28>"
      ]
     },
     "execution_count": 68,
     "metadata": {},
     "output_type": "execute_result"
    },
    {
     "data": {
      "image/png": "[encoded data removed]",
      "text/plain": [
       "<Figure size 432x288 with 1 Axes>"
      ]
     },
     "metadata": {
      "needs_background": "light"
     },
     "output_type": "display_data"
    }
   ],
   "source": [
    "sns.countplot(x= 'member_gender',hue= 'duration', data=bikedata)"
   ]
  },
  {
   "cell_type": "markdown",
   "metadata": {},
   "source": [
    "We can see that throughout the gender's, most members ride the bikes for 14 minutes or less. However, it is also noted that more percentage of male members ride for a shorter amount of time than females."
   ]
  },
  {
   "cell_type": "code",
   "execution_count": 69,
   "metadata": {},
   "outputs": [
    {
     "data": {
      "text/plain": [
       "subscriber\n",
       "False    32.624738\n",
       "True     34.276225\n",
       "Name: age, dtype: float64"
      ]
     },
     "execution_count": 69,
     "metadata": {},
     "output_type": "execute_result"
    }
   ],
   "source": [
    "bikedata.query(\"age < 60\").groupby('subscriber')['age'].mean()"
   ]
  },
  {
   "cell_type": "markdown",
   "metadata": {},
   "source": [
    "`Age vs Gender/Subscriber`"
   ]
  },
  {
   "cell_type": "code",
   "execution_count": 70,
   "metadata": {},
   "outputs": [
    {
     "data": {
      "text/plain": [
       "<matplotlib.axes._subplots.AxesSubplot at 0x185dad6ce48>"
      ]
     },
     "execution_count": 70,
     "metadata": {},
     "output_type": "execute_result"
    },
    {
     "data": {
      "image/png": "[encoded data removed]",
      "text/plain": [
       "<Figure size 432x288 with 1 Axes>"
      ]
     },
     "metadata": {
      "needs_background": "light"
     },
     "output_type": "display_data"
    }
   ],
   "source": [
    "#violinplot of subscribers and their age\n",
    "sns.violinplot(x= 'subscriber', y= 'age', data= bikedata)"
   ]
  },
  {
   "cell_type": "markdown",
   "metadata": {},
   "source": [
    "Those that were not subscribers were mostly around 33 years old. Subscribers age were more diverse than non subscribers."
   ]
  },
  {
   "cell_type": "code",
   "execution_count": 71,
   "metadata": {},
   "outputs": [
    {
     "data": {
      "text/plain": [
       "<matplotlib.axes._subplots.AxesSubplot at 0x185dadbb0f0>"
      ]
     },
     "execution_count": 71,
     "metadata": {},
     "output_type": "execute_result"
    },
    {
     "data": {
      "image/png": "[encoded data removed]",
      "text/plain": [
       "<Figure size 432x288 with 1 Axes>"
      ]
     },
     "metadata": {
      "needs_background": "light"
     },
     "output_type": "display_data"
    }
   ],
   "source": [
    "#violinplot of the genders and their age\n",
    "sns.boxplot(x='member_gender', y= 'age', data=bikedata)"
   ]
  },
  {
   "cell_type": "code",
   "execution_count": 72,
   "metadata": {},
   "outputs": [
    {
     "data": {
      "text/plain": [
       "Text(0.5, 0, 'months')"
      ]
     },
     "execution_count": 72,
     "metadata": {},
     "output_type": "execute_result"
    },
    {
     "data": {
      "image/png": "[encoded data removed]",
      "text/plain": [
       "<Figure size 432x288 with 1 Axes>"
      ]
     },
     "metadata": {
      "needs_background": "light"
     },
     "output_type": "display_data"
    }
   ],
   "source": [
    "sns.barplot(x = bikedata.start_time.dt.month, y= 'duration_min', data= bikedata)\n",
    "plt.xlabel('months')"
   ]
  },
  {
   "cell_type": "markdown",
   "metadata": {},
   "source": [
    "People tend to ride for a longer time during the month of june and july. And lesser during october, november, and december."
   ]
  },
  {
   "cell_type": "markdown",
   "metadata": {},
   "source": [
    "### Talk about some of the relationships you observed in this part of the investigation. How did the feature(s) of interest vary with other features in the dataset?\n",
    ">* Non subscribers rode the bikes for a longer period of time\n",
    "* There is an unsually large amount of users that are born in 1985\n",
    "* Many more males rode for a shorter duration than female riders\n",
    "* People ride for a longer period during the month of june and july.\n",
    "### Did you observe any interesting relationships between the other features (not the main feature(s) of interest)?\n",
    "\n",
    "> * An interesting observation was that most of the non subscribers were 33 years old. This maybe because the default year when signing up is set at 1985.  \n",
    "* Another interesting observation was that the age of the unknown genders were highly variable."
   ]
  },
  {
   "cell_type": "markdown",
   "metadata": {},
   "source": [
    "## Multivariate Exploration"
   ]
  },
  {
   "cell_type": "code",
   "execution_count": 74,
   "metadata": {},
   "outputs": [
    {
     "data": {
      "text/plain": [
       "Text(0, 0.5, 'Duration of Trip (min)')"
      ]
     },
     "execution_count": 74,
     "metadata": {},
     "output_type": "execute_result"
    },
    {
     "data": {
      "image/png": "[encoded data removed]",
      "text/plain": [
       "<Figure size 576x288 with 1 Axes>"
      ]
     },
     "metadata": {
      "needs_background": "light"
     },
     "output_type": "display_data"
    }
   ],
   "source": [
    "#only use dataframe with three county's of interest\n",
    "plt.figure(figsize = (8,4))\n",
    "sns.barplot(data= three_county, x= 'start_county',y ='duration_min', hue='member_gender',hue_order=['Male','Female'])\n",
    "plt.title('Duration of Trip vs Start Location/Gender')\n",
    "plt.legend(title=None)\n",
    "plt.xlabel('Start Location')\n",
    "plt.ylabel('Duration of Trip (min)')"
   ]
  },
  {
   "cell_type": "code",
   "execution_count": 75,
   "metadata": {},
   "outputs": [],
   "source": [
    "#create a new column called months for ease of use\n",
    "bikedata['start_month'] = bikedata.start_time.dt.month_name()"
   ]
  },
  {
   "cell_type": "code",
   "execution_count": 76,
   "metadata": {},
   "outputs": [
    {
     "data": {
      "image/png": "[encoded data removed]",
      "text/plain": [
       "<Figure size 576x432 with 1 Axes>"
      ]
     },
     "metadata": {
      "needs_background": "light"
     },
     "output_type": "display_data"
    }
   ],
   "source": [
    "#multivariate bar plot to showdurationvs month/gender\n",
    "plt.figure(figsize= (8,6))\n",
    "sns.barplot(data=bikedata, x= 'start_month', y= 'duration_min', hue = 'member_gender', hue_order = ['Male','Female'])\n",
    "plt.title('Duration of Trip vs Month/Gender')\n",
    "plt.legend(title = None)\n",
    "plt.xlabel('')\n",
    "plt.ylabel('Duration of Trip (min)')\n",
    "plt.xticks(rotation = 45);"
   ]
  },
  {
   "cell_type": "markdown",
   "metadata": {},
   "source": [
    "Throughout the year, females ride for a longer period of time than males."
   ]
  },
  {
   "cell_type": "code",
   "execution_count": 77,
   "metadata": {},
   "outputs": [
    {
     "data": {
      "text/plain": [
       "Text(0.5, 0, '')"
      ]
     },
     "execution_count": 77,
     "metadata": {},
     "output_type": "execute_result"
    },
    {
     "data": {
      "image/png": "[encoded data removed]",
      "text/plain": [
       "<Figure size 576x360 with 1 Axes>"
      ]
     },
     "metadata": {
      "needs_background": "light"
     },
     "output_type": "display_data"
    }
   ],
   "source": [
    "#violinplot showing the distribution of age and the duration/subscribers\n",
    "plt.figure(figsize= (8,5))\n",
    "sns.violinplot(data=bikedata, x='duration', y='age',hue='subscriber')\n",
    "plt.title('Age vs Duration/Subscriber')\n",
    "plt.xlabel('')"
   ]
  },
  {
   "cell_type": "code",
   "execution_count": 78,
   "metadata": {},
   "outputs": [],
   "source": [
    "#divide age into two groups < 55 is young >= 55 is old\n",
    "bikedata['age_cat'] = pd.cut(x=bikedata['age'], bins= [0,55,np.inf],labels = ['young','old'])"
   ]
  },
  {
   "cell_type": "code",
   "execution_count": 87,
   "metadata": {},
   "outputs": [
    {
     "data": {
      "text/plain": [
       "Text(0, 0.5, 'Duration of Ride (min)')"
      ]
     },
     "execution_count": 87,
     "metadata": {},
     "output_type": "execute_result"
    },
    {
     "data": {
      "image/png": "[encoded data removed]",
      "text/plain": [
       "<Figure size 576x360 with 1 Axes>"
      ]
     },
     "metadata": {
      "needs_background": "light"
     },
     "output_type": "display_data"
    }
   ],
   "source": [
    "#bargraph of duration of ride on the age_category/ subscriber\n",
    "plt.figure(figsize=(8,5))\n",
    "sns.barplot(x='subscriber', y='duration_min',hue='age_cat',data=bikedata)\n",
    "plt.title('Duration vs Subscriber, Young or Old?')\n",
    "plt.xticks(ticks = [0,1],labels= ('Not Subscriber','Subscriber'))\n",
    "plt.legend(title= None)\n",
    "plt.xlabel('')\n",
    "plt.ylabel('Duration of Ride (min)')"
   ]
  },
  {
   "cell_type": "code",
   "execution_count": 80,
   "metadata": {
    "scrolled": true
   },
   "outputs": [
    {
     "data": {
      "image/png": "[encoded data removed]",
      "text/plain": [
       "<Figure size 494.125x432 with 1 Axes>"
      ]
     },
     "metadata": {
      "needs_background": "light"
     },
     "output_type": "display_data"
    }
   ],
   "source": [
    "#duration of trip in minutes vs themonths/subscribers\n",
    "g = sns.FacetGrid(data =bikedata, hue = 'subscriber',height = 6)\n",
    "g.map(plt.scatter,'start_month','duration_min',alpha = .2)\n",
    "g.add_legend(title=('Subscriber'))\n",
    "plt.title('Duration of Trip vs Month/User_Type')\n",
    "plt.ylabel('Duration of Trip (min)')\n",
    "plt.xlabel('')\n",
    "plt.xticks(rotation = 45);"
   ]
  },
  {
   "cell_type": "markdown",
   "metadata": {},
   "source": [
    "### Were there any interesting or surprising interactions between features?\n",
    "\n",
    "> * The average length of trips for females were longer than that of males\n",
    "* Those that were not subscribers were mostly in their early 30's\n",
    "* When looking at the subscribers, as duration (category) increased, the distribution in age increased as well. \n",
    "* There was a larger spread of ages riding for longer periods (> 30 minutes) than shorter periods ( < 15 minutes).\n",
    "* No real difference in duration ridden for older and younger folks, subscriber or not. (Older >= 55)\n",
    "* Many more subscribers rode for a duration of around 200 minutes and under than non-subscribers.\n",
    "* There were many non-subscribers that rode more than 200 minutes, it looks like more non-subscribers rode for longer periods of time than subscribers."
   ]
  },
  {
   "cell_type": "code",
   "execution_count": 81,
   "metadata": {},
   "outputs": [],
   "source": [
    "#bikedata.to_csv('for_exploring.csv')"
   ]
  },
  {
   "cell_type": "code",
   "execution_count": null,
   "metadata": {},
   "outputs": [],
   "source": []
  }
 ],
 "metadata": {
  "kernelspec": {
   "display_name": "Python 3",
   "language": "python",
   "name": "python3"
  },
  "language_info": {
   "codemirror_mode": {
    "name": "ipython",
    "version": 3
   },
   "file_extension": ".py",
   "mimetype": "text/x-python",
   "name": "python",
   "nbconvert_exporter": "python",
   "pygments_lexer": "ipython3",
   "version": "3.7.3"
  }
 },
 "nbformat": 4,
 "nbformat_minor": 2
}
